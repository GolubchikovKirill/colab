{
  "cells": [
    {
      "cell_type": "markdown",
      "metadata": {
        "id": "view-in-github",
        "colab_type": "text"
      },
      "source": [
        "<a href=\"https://colab.research.google.com/github/GolubchikovKirill/colab/blob/main/lists_tuples.ipynb\" target=\"_parent\"><img src=\"https://colab.research.google.com/assets/colab-badge.svg\" alt=\"Open In Colab\"/></a>"
      ]
    },
    {
      "cell_type": "markdown",
      "source": [
        "# Основы типов данных. Списки и кортежи\n",
        "\n",
        "Автор: **Булыгин Олег**\n",
        "* [Я в LinkedIn](https://www.linkedin.com/in/obulygin/)  \n",
        "* [Мой канал в ТГ по Python](https://t.me/pythontalk_ru)\n",
        "* [Чат канала](https://t.me/pythontalk_chat)\n",
        "* [Блог в Телетайпе](https://teletype.in/@pythontalk)\n",
        "\n",
        "Ссылочки в ноутбуке ведут на полезные доп. материалы, обязательно всё изучайте :)"
      ],
      "metadata": {
        "id": "WuPm8sdOa_yJ"
      }
    },
    {
      "cell_type": "markdown",
      "source": [
        "На текущий момент вы знаете в основном о числовом, строковом и логическом типах данных.\n",
        "\n",
        "В Python можно узнавать тип переменной, используя встроенную функцию `type()`.\n",
        "\n"
      ],
      "metadata": {
        "id": "4j95liEmuEp_"
      }
    },
    {
      "cell_type": "code",
      "source": [
        "pi = 3.14\n",
        "print(type(pi))\n",
        "\n",
        "pi_str = '3.14'\n",
        "print(type(pi_str))"
      ],
      "metadata": {
        "id": "_6yYPKr_uens",
        "colab": {
          "base_uri": "https://localhost:8080/"
        },
        "outputId": "58e04fe0-76bc-4680-b9c9-cc1679b01592"
      },
      "execution_count": null,
      "outputs": [
        {
          "output_type": "stream",
          "name": "stdout",
          "text": [
            "<class 'float'>\n",
            "<class 'str'>\n"
          ]
        }
      ]
    },
    {
      "cell_type": "markdown",
      "source": [
        "## Преобразование базовых [типов данных](https://teletype.in/@pythontalk/datatypes_python)\n",
        "\n",
        "Несмотря на то что работа с ними всё же заметно разная, есть возможность преобразования одного типа в другой.\n",
        "\n"
      ],
      "metadata": {
        "id": "lEMexRiMvcju"
      }
    },
    {
      "cell_type": "markdown",
      "source": [
        "### Преобразование чисел"
      ],
      "metadata": {
        "id": "jhmTORKzv_sh"
      }
    },
    {
      "cell_type": "code",
      "source": [
        "my_integer = 10\n",
        "my_float = 5.5\n",
        "\n",
        "float_to_int = int(my_float)\n",
        "print(float_to_int)\n",
        "\n",
        "int_to_float = float(my_integer)\n",
        "print(int_to_float)\n",
        "\n",
        "int_to_str = str(my_integer)\n",
        "float_to_str = str(my_float)\n",
        "print(int_to_str)\n",
        "print(float_to_str)\n",
        "\n",
        "int_to_bool = bool(my_integer)\n",
        "float_to_bool = bool(my_float)\n",
        "\n",
        "print(int_to_bool)\n",
        "print(float_to_bool)"
      ],
      "metadata": {
        "id": "pRiXoVZZwF64",
        "colab": {
          "base_uri": "https://localhost:8080/"
        },
        "outputId": "d749ad63-b44f-4c17-e8ea-401f6ea25481"
      },
      "execution_count": null,
      "outputs": [
        {
          "output_type": "stream",
          "name": "stdout",
          "text": [
            "5\n",
            "10.0\n",
            "10\n",
            "5.5\n",
            "True\n",
            "True\n"
          ]
        }
      ]
    },
    {
      "cell_type": "markdown",
      "source": [
        "### Преобразование строк"
      ],
      "metadata": {
        "id": "kbJ5YFN7wk6K"
      }
    },
    {
      "cell_type": "code",
      "source": [
        "my_str = '42'\n",
        "\n",
        "str_to_int = int(my_str)\n",
        "print(str_to_int)"
      ],
      "metadata": {
        "id": "jn1Q_eGnwm3W",
        "colab": {
          "base_uri": "https://localhost:8080/"
        },
        "outputId": "41e841a9-1015-419f-8c58-8f8417db65d2"
      },
      "execution_count": null,
      "outputs": [
        {
          "output_type": "stream",
          "name": "stdout",
          "text": [
            "42\n"
          ]
        }
      ]
    },
    {
      "cell_type": "code",
      "source": [
        "my_str = '42.42'\n",
        "\n",
        "str_to_float = float(my_str)\n",
        "print(str_to_float)"
      ],
      "metadata": {
        "id": "BWptfLGLwwMm",
        "colab": {
          "base_uri": "https://localhost:8080/"
        },
        "outputId": "8e993bae-c847-41ba-e30f-f1b8f103ada7"
      },
      "execution_count": null,
      "outputs": [
        {
          "output_type": "stream",
          "name": "stdout",
          "text": [
            "42.42\n"
          ]
        }
      ]
    },
    {
      "cell_type": "code",
      "source": [
        "my_str = 'Hello World!'\n",
        "\n",
        "str_to_bool = bool(my_str)\n",
        "print(str_to_bool)"
      ],
      "metadata": {
        "id": "P1mNE9x9wybf"
      },
      "execution_count": null,
      "outputs": []
    },
    {
      "cell_type": "markdown",
      "source": [
        "### Преобразование логических значений"
      ],
      "metadata": {
        "id": "Z8jy41NFJKVC"
      }
    },
    {
      "cell_type": "code",
      "source": [
        "my_bool = True\n",
        "\n",
        "bool_to_str = str(my_bool)\n",
        "print(bool_to_str)\n",
        "\n",
        "bool_to_int = int(my_bool)\n",
        "print(bool_to_int)\n",
        "\n",
        "bool_to_float = float(my_bool)\n",
        "print(bool_to_float)"
      ],
      "metadata": {
        "id": "m9U2RwrvJOAf",
        "colab": {
          "base_uri": "https://localhost:8080/"
        },
        "outputId": "4bf8939a-7a42-4c5e-df0b-a85cc5c52bbd"
      },
      "execution_count": null,
      "outputs": [
        {
          "output_type": "stream",
          "name": "stdout",
          "text": [
            "True\n",
            "1\n",
            "1.0\n"
          ]
        }
      ]
    },
    {
      "cell_type": "markdown",
      "source": [
        "## [Индексация и срезы](https://teletype.in/@pythontalk/indexes_slices)\n",
        "\n",
        "Каждый элемент в строке пронумерован, и начало отсчёта ведётся с нуля. Порядковый номер элемента называют индексом. Чтобы извлечь элемент строки по индексу, нужно написать его внутри квадратных скобок справа от переменной, которая хранит текстовые данные:"
      ],
      "metadata": {
        "id": "s8azG435_Xpc"
      }
    },
    {
      "cell_type": "code",
      "source": [
        "str_ = \"Hello!\"\n",
        "\n",
        "print(str_[0])\n",
        "print(str_[4])"
      ],
      "metadata": {
        "id": "1H6HZgVI_Zx6",
        "colab": {
          "base_uri": "https://localhost:8080/"
        },
        "outputId": "0f4b9be4-38c6-4e0d-e2b7-c2bd07fb8bc8"
      },
      "execution_count": null,
      "outputs": [
        {
          "output_type": "stream",
          "name": "stdout",
          "text": [
            "H\n",
            "o\n"
          ]
        }
      ]
    },
    {
      "cell_type": "markdown",
      "source": [
        "Индексы могут быть отрицательными, они нумеруются от последнего символа к первому:"
      ],
      "metadata": {
        "id": "9tcqyJY8-quG"
      }
    },
    {
      "cell_type": "code",
      "source": [
        "print(str_[-1])\n",
        "print(str_[-3])"
      ],
      "metadata": {
        "id": "pRaPgrtC-xE4",
        "colab": {
          "base_uri": "https://localhost:8080/"
        },
        "outputId": "5dab429c-4bfb-474a-b93e-6748b7b8629d"
      },
      "execution_count": null,
      "outputs": [
        {
          "output_type": "stream",
          "name": "stdout",
          "text": [
            "!\n",
            "l\n"
          ]
        }
      ]
    },
    {
      "cell_type": "markdown",
      "source": [
        "Можно извлекать не только одиночные элементы, но и целые подстроки, исползуя срезы.\n",
        "\n",
        "В общем случае срезы определяются по шаблону:\n",
        "\n",
        "`[начало:конец:шаг]`\n",
        "\n",
        "где `начало` — это индекс первого символа подстроки;\n",
        "\n",
        "`конец` — индекс символа, следующего сразу после подстроки (символ с указанным индексом сам не включается в подстроку);\n",
        "\n",
        "`шаг` — позволяет извлекать не все элементы, а, например, следующие через один друг за другом, через два и т.д.\n",
        "\n"
      ],
      "metadata": {
        "id": "H3jQEfJS_sA_"
      }
    },
    {
      "cell_type": "code",
      "source": [
        "str_ = \"Hello!\"\n",
        "print(str_[2:4])"
      ],
      "metadata": {
        "id": "Lz6xL13t_tYW",
        "colab": {
          "base_uri": "https://localhost:8080/"
        },
        "outputId": "facddac3-1e42-4e34-c5f6-d503bbfdf494"
      },
      "execution_count": null,
      "outputs": [
        {
          "output_type": "stream",
          "name": "stdout",
          "text": [
            "ll\n"
          ]
        }
      ]
    },
    {
      "cell_type": "code",
      "source": [
        "str_ = \"Hello!\"\n",
        "print(str_[2:5:2])"
      ],
      "metadata": {
        "id": "2ta-twID_Hc-",
        "colab": {
          "base_uri": "https://localhost:8080/"
        },
        "outputId": "7b4eb476-8bcf-47a8-b1d7-17f6ca6013db"
      },
      "execution_count": null,
      "outputs": [
        {
          "output_type": "stream",
          "name": "stdout",
          "text": [
            "lo\n"
          ]
        }
      ]
    },
    {
      "cell_type": "markdown",
      "source": [
        "Не все элементы шаблона обязательно должны использоваться.  \n",
        "* Если мы не указываем начало среза, то по умолчанию срезаем с первого символа в строке.\n",
        "\n",
        "* Если не указываем конец среза, то по умолчанию срезаем до конца строки.\n",
        "\n",
        "* Если не указываем значение для шага, то по умолчанию он равен 1.\n",
        "\n"
      ],
      "metadata": {
        "id": "cn6j0HiPANHH"
      }
    },
    {
      "cell_type": "code",
      "source": [
        "str_ = \"Hello!\"\n",
        "print(str_[2:])"
      ],
      "metadata": {
        "id": "6CUIQaj5AOxG",
        "colab": {
          "base_uri": "https://localhost:8080/"
        },
        "outputId": "ab36e283-56ca-48e7-9755-93cf2dde3d17"
      },
      "execution_count": null,
      "outputs": [
        {
          "output_type": "stream",
          "name": "stdout",
          "text": [
            "llo!\n"
          ]
        }
      ]
    },
    {
      "cell_type": "code",
      "source": [
        "print(str_[:4])"
      ],
      "metadata": {
        "id": "Wbhy4QVTAQ3D",
        "colab": {
          "base_uri": "https://localhost:8080/"
        },
        "outputId": "96788f2d-09d6-42c4-a5f0-ef9d13f7680a"
      },
      "execution_count": null,
      "outputs": [
        {
          "output_type": "stream",
          "name": "stdout",
          "text": [
            "Hell\n"
          ]
        }
      ]
    },
    {
      "cell_type": "markdown",
      "source": [
        "Можно извлекать символы, используя только шаг. Например, для извлечения каждого второго символа нужно использовать:\n",
        "\n"
      ],
      "metadata": {
        "id": "RdNko-BeAaSN"
      }
    },
    {
      "cell_type": "code",
      "source": [
        "print(str_[::2])"
      ],
      "metadata": {
        "id": "h99Dy_1aAbKw",
        "colab": {
          "base_uri": "https://localhost:8080/"
        },
        "outputId": "75324798-5875-4e07-bc2b-40635d213790"
      },
      "execution_count": null,
      "outputs": [
        {
          "output_type": "stream",
          "name": "stdout",
          "text": [
            "Hlo\n"
          ]
        }
      ]
    },
    {
      "cell_type": "markdown",
      "source": [
        "Отрицательный шаг позволяет развернуть строку:\n",
        "\n"
      ],
      "metadata": {
        "id": "Kfd86w6MAcZD"
      }
    },
    {
      "cell_type": "code",
      "source": [
        "print(str_[::-1])"
      ],
      "metadata": {
        "id": "izkaBRhTAdTH",
        "colab": {
          "base_uri": "https://localhost:8080/"
        },
        "outputId": "0766676c-4ffb-4b59-c33d-afa08ac4af41"
      },
      "execution_count": null,
      "outputs": [
        {
          "output_type": "stream",
          "name": "stdout",
          "text": [
            "!olleH\n"
          ]
        }
      ]
    },
    {
      "cell_type": "markdown",
      "source": [
        "Есть указать в срезе несуществующую границу, то в результат будут включены все существующие элементы. Если же указать несуществующий индекс, то получим ошибку."
      ],
      "metadata": {
        "id": "43cuEkJPApf6"
      }
    },
    {
      "cell_type": "code",
      "source": [
        "print(str_[2:700])\n",
        "print(str_[100])"
      ],
      "metadata": {
        "id": "wLPS6MD5Ap4E",
        "colab": {
          "base_uri": "https://localhost:8080/",
          "height": 176
        },
        "outputId": "367342c4-d7a9-425a-d6d3-7723745c5407"
      },
      "execution_count": null,
      "outputs": [
        {
          "output_type": "stream",
          "name": "stdout",
          "text": [
            "llo!\n"
          ]
        },
        {
          "output_type": "error",
          "ename": "IndexError",
          "evalue": "string index out of range",
          "traceback": [
            "\u001b[0;31m---------------------------------------------------------------------------\u001b[0m",
            "\u001b[0;31mIndexError\u001b[0m                                Traceback (most recent call last)",
            "\u001b[0;32m<ipython-input-18-17af5544ee84>\u001b[0m in \u001b[0;36m<cell line: 2>\u001b[0;34m()\u001b[0m\n\u001b[1;32m      1\u001b[0m \u001b[0mprint\u001b[0m\u001b[0;34m(\u001b[0m\u001b[0mstr_\u001b[0m\u001b[0;34m[\u001b[0m\u001b[0;36m2\u001b[0m\u001b[0;34m:\u001b[0m\u001b[0;36m700\u001b[0m\u001b[0;34m]\u001b[0m\u001b[0;34m)\u001b[0m\u001b[0;34m\u001b[0m\u001b[0;34m\u001b[0m\u001b[0m\n\u001b[0;32m----> 2\u001b[0;31m \u001b[0mprint\u001b[0m\u001b[0;34m(\u001b[0m\u001b[0mstr_\u001b[0m\u001b[0;34m[\u001b[0m\u001b[0;36m100\u001b[0m\u001b[0;34m]\u001b[0m\u001b[0;34m)\u001b[0m\u001b[0;34m\u001b[0m\u001b[0;34m\u001b[0m\u001b[0m\n\u001b[0m",
            "\u001b[0;31mIndexError\u001b[0m: string index out of range"
          ]
        }
      ]
    },
    {
      "cell_type": "markdown",
      "source": [
        "Строки являются неизменяемым типом, поэтому нельзя переназначить элемент по индексу\n"
      ],
      "metadata": {
        "id": "C4RIDVGaAtSQ"
      }
    },
    {
      "cell_type": "code",
      "execution_count": null,
      "metadata": {
        "id": "tB2aHfrKRbF4",
        "colab": {
          "base_uri": "https://localhost:8080/",
          "height": 141
        },
        "outputId": "eb391534-7f74-4395-ab45-b446eee66902"
      },
      "outputs": [
        {
          "output_type": "error",
          "ename": "TypeError",
          "evalue": "'str' object does not support item assignment",
          "traceback": [
            "\u001b[0;31m---------------------------------------------------------------------------\u001b[0m",
            "\u001b[0;31mTypeError\u001b[0m                                 Traceback (most recent call last)",
            "\u001b[0;32m<ipython-input-19-eb5440b3ae73>\u001b[0m in \u001b[0;36m<cell line: 1>\u001b[0;34m()\u001b[0m\n\u001b[0;32m----> 1\u001b[0;31m \u001b[0mstr_\u001b[0m\u001b[0;34m[\u001b[0m\u001b[0;36m0\u001b[0m\u001b[0;34m]\u001b[0m \u001b[0;34m=\u001b[0m \u001b[0;34m'!'\u001b[0m\u001b[0;34m\u001b[0m\u001b[0;34m\u001b[0m\u001b[0m\n\u001b[0m",
            "\u001b[0;31mTypeError\u001b[0m: 'str' object does not support item assignment"
          ]
        }
      ],
      "source": [
        "str_[0] = '!'"
      ]
    },
    {
      "cell_type": "markdown",
      "metadata": {
        "id": "9Rnti1j0RbF5"
      },
      "source": [
        "Дана строковая переменная. Напишем код, который выводит на экран:\n",
        "* средний символ, если число символов в строке нечётное;\n",
        "* два средних символов, если число символов чётное.\n",
        "\n",
        "\n",
        "Примеры работы:\n",
        "\n",
        "```\n",
        "word = 'test'\n",
        "Результат:\n",
        "es\n",
        "\n",
        "word = 'testing'\n",
        "Результат\n",
        "t\n",
        "```"
      ]
    },
    {
      "cell_type": "code",
      "source": [
        "word = 'testerer'\n",
        "\n",
        "if len(word) % 2 != 0:\n",
        "    print(word[len(word) // 2])\n",
        "else:\n",
        "    print(word[len(word) // 2 - 1: len(word) // 2 + 1])"
      ],
      "metadata": {
        "id": "rsxOCevqysIv",
        "colab": {
          "base_uri": "https://localhost:8080/"
        },
        "outputId": "2edc0e86-6ca6-4989-9ae4-6dc6493d1efe"
      },
      "execution_count": null,
      "outputs": [
        {
          "output_type": "stream",
          "name": "stdout",
          "text": [
            "te\n"
          ]
        }
      ]
    },
    {
      "cell_type": "markdown",
      "source": [
        "## Списки\n",
        "\n",
        "Список в Python — это упорядоченная изменяемая коллекция объектов произвольных типов.\n",
        "\n",
        "Пустой список можно создать так:"
      ],
      "metadata": {
        "id": "CAgns6zoB7RI"
      }
    },
    {
      "cell_type": "code",
      "source": [
        "my_list = []\n",
        "print(type(my_list))"
      ],
      "metadata": {
        "id": "o5jI3TjwCISJ",
        "colab": {
          "base_uri": "https://localhost:8080/"
        },
        "outputId": "67f45ce0-e65a-426e-d9d5-b4248c6ad134"
      },
      "execution_count": null,
      "outputs": [
        {
          "output_type": "stream",
          "name": "stdout",
          "text": [
            "<class 'list'>\n"
          ]
        }
      ]
    },
    {
      "cell_type": "markdown",
      "source": [
        "Можем создать сразу список с элементами:"
      ],
      "metadata": {
        "id": "e-23WFFzCkYC"
      }
    },
    {
      "cell_type": "code",
      "source": [
        "languages = ['Python', 'Java', 'C', 'C++', 'JavaScript']\n",
        "print(type(languages))"
      ],
      "metadata": {
        "id": "QrYHGQn3CrTY",
        "colab": {
          "base_uri": "https://localhost:8080/"
        },
        "outputId": "db667e64-f84a-4d6e-9269-014c66bde9f2"
      },
      "execution_count": null,
      "outputs": [
        {
          "output_type": "stream",
          "name": "stdout",
          "text": [
            "<class 'list'>\n"
          ]
        }
      ]
    },
    {
      "cell_type": "markdown",
      "source": [
        "В списке можно хранить не только простые типы (числа, строки), но также кортежи, словари, списки, списки внутри списков и даже функции."
      ],
      "metadata": {
        "id": "N5_P4j_gHprx"
      }
    },
    {
      "cell_type": "markdown",
      "source": [
        "Можем получить на основе строки через `split`.\n",
        "\n",
        "Данный метод применяется к строковым объектам и позволяет разбивать их на элементы, разделенные каким-либо символом (пробелом, запятой, тире или указанной последовательностью символов). Каждый элемент после применения метода `split` становится отдельным элементом списка.\n",
        "\n"
      ],
      "metadata": {
        "id": "A0qckDA5C1t5"
      }
    },
    {
      "cell_type": "code",
      "source": [
        "queries_string = \"смотреть сериалы онлайн,новости спорта,афиша кино,курс доллара,сериалы этим летом,курс по питону,сериалы про спорт\"\n",
        "new_list = queries_string.split(',')\n",
        "print(new_list)"
      ],
      "metadata": {
        "id": "7wtJos0zC9nc",
        "colab": {
          "base_uri": "https://localhost:8080/"
        },
        "outputId": "c3c83706-2989-4e4b-cb7f-ef3df61b2eb3"
      },
      "execution_count": null,
      "outputs": [
        {
          "output_type": "stream",
          "name": "stdout",
          "text": [
            "['смотреть сериалы онлайн', 'новости спорта,афиша кино,курс доллара,сериалы этим летом,курс по питону,сериалы про спорт']\n"
          ]
        }
      ]
    },
    {
      "cell_type": "markdown",
      "source": [
        "Списки так же поддерживают индексацию и срезы"
      ],
      "metadata": {
        "id": "GWrs7j4pC9sh"
      }
    },
    {
      "cell_type": "code",
      "source": [
        "languages = ['Python', 'Java', 'C', 'C++', 'JavaScript']\n",
        "\n",
        "print(languages[1])\n",
        "print(languages[:2])\n",
        "print(languages[2:4])\n",
        "print(languages[:4:2])"
      ],
      "metadata": {
        "id": "JLx35ZjiDDqB",
        "colab": {
          "base_uri": "https://localhost:8080/"
        },
        "outputId": "4620d010-9289-4f07-c00b-7c215a94a3ea"
      },
      "execution_count": null,
      "outputs": [
        {
          "output_type": "stream",
          "name": "stdout",
          "text": [
            "Java\n",
            "['Python', 'Java']\n",
            "['C', 'C++']\n",
            "['Python', 'C']\n"
          ]
        }
      ]
    },
    {
      "cell_type": "markdown",
      "source": [
        "Списки - изменяемый тип данных, поэтому без проблем можно переназначить его элементы по индексу или срезу."
      ],
      "metadata": {
        "id": "6dr9oRPAtlv5"
      }
    },
    {
      "cell_type": "code",
      "source": [
        "languages = ['Python', 'Java', 'C', 'C++', 'JavaScript']\n",
        "\n",
        "languages[2] = 'C#'\n",
        "print(languages)\n",
        "\n",
        "languages[1:4:2] = ['C++', 'Java']\n",
        "print(languages)"
      ],
      "metadata": {
        "id": "rO6CdvF9tsCm",
        "colab": {
          "base_uri": "https://localhost:8080/",
          "height": 211
        },
        "outputId": "fc8c3b93-d0ae-4ece-e039-18d9a384735f"
      },
      "execution_count": null,
      "outputs": [
        {
          "output_type": "stream",
          "name": "stdout",
          "text": [
            "['Python', 'Java', 'C#', 'C++', 'JavaScript']\n"
          ]
        },
        {
          "output_type": "error",
          "ename": "ValueError",
          "evalue": "attempt to assign sequence of size 1 to extended slice of size 2",
          "traceback": [
            "\u001b[0;31m---------------------------------------------------------------------------\u001b[0m",
            "\u001b[0;31mValueError\u001b[0m                                Traceback (most recent call last)",
            "\u001b[0;32m<ipython-input-45-56dfe9feb96f>\u001b[0m in \u001b[0;36m<cell line: 6>\u001b[0;34m()\u001b[0m\n\u001b[1;32m      4\u001b[0m \u001b[0mprint\u001b[0m\u001b[0;34m(\u001b[0m\u001b[0mlanguages\u001b[0m\u001b[0;34m)\u001b[0m\u001b[0;34m\u001b[0m\u001b[0;34m\u001b[0m\u001b[0m\n\u001b[1;32m      5\u001b[0m \u001b[0;34m\u001b[0m\u001b[0m\n\u001b[0;32m----> 6\u001b[0;31m \u001b[0mlanguages\u001b[0m\u001b[0;34m[\u001b[0m\u001b[0;36m1\u001b[0m\u001b[0;34m:\u001b[0m\u001b[0;36m4\u001b[0m\u001b[0;34m:\u001b[0m\u001b[0;36m2\u001b[0m\u001b[0;34m]\u001b[0m \u001b[0;34m=\u001b[0m \u001b[0;34m[\u001b[0m\u001b[0;34m'C++'\u001b[0m\u001b[0;34m]\u001b[0m\u001b[0;34m\u001b[0m\u001b[0;34m\u001b[0m\u001b[0m\n\u001b[0m\u001b[1;32m      7\u001b[0m \u001b[0mprint\u001b[0m\u001b[0;34m(\u001b[0m\u001b[0mlanguages\u001b[0m\u001b[0;34m)\u001b[0m\u001b[0;34m\u001b[0m\u001b[0;34m\u001b[0m\u001b[0m\n",
            "\u001b[0;31mValueError\u001b[0m: attempt to assign sequence of size 1 to extended slice of size 2"
          ]
        }
      ]
    },
    {
      "cell_type": "code",
      "source": [
        "res = ['a', 'b', 'c', 'd', 'e']\n",
        "\n",
        "res[-1:-3:-1]"
      ],
      "metadata": {
        "colab": {
          "base_uri": "https://localhost:8080/"
        },
        "id": "T0txDEFyTpGm",
        "outputId": "65321642-b456-45da-eb70-d8a25d5183fb"
      },
      "execution_count": null,
      "outputs": [
        {
          "output_type": "execute_result",
          "data": {
            "text/plain": [
              "['e', 'd']"
            ]
          },
          "metadata": {},
          "execution_count": 49
        }
      ]
    },
    {
      "cell_type": "markdown",
      "source": [
        "### Примеры операций над списками"
      ],
      "metadata": {
        "id": "43_ar7C5EMRV"
      }
    },
    {
      "cell_type": "markdown",
      "source": [
        "Метод `append`\n",
        "\n",
        "Один из самых частоприменимых методов. Его суть заключается в том, чтобы добавить в имеющийся список дополнительный элемент. Он меняет исходный список, но ничего нового не создаёт."
      ],
      "metadata": {
        "id": "1ShEJnq6FXiv"
      }
    },
    {
      "cell_type": "code",
      "source": [
        "languages = ['Python', 'Java', 'C', 'C++', 'JavaScript']\n",
        "languages.append('R')\n",
        "\n",
        "print(languages)"
      ],
      "metadata": {
        "id": "TUtTmO9jFlfi",
        "colab": {
          "base_uri": "https://localhost:8080/"
        },
        "outputId": "19f9017f-5c9c-4e59-e01b-6280d73352ae"
      },
      "execution_count": null,
      "outputs": [
        {
          "output_type": "stream",
          "name": "stdout",
          "text": [
            "['Python', 'Java', 'C', 'C++', 'JavaScript', 'R']\n"
          ]
        }
      ]
    },
    {
      "cell_type": "code",
      "source": [
        "languages = ['Python', 'Java', 'C', 'C++', 'JavaScript']\n",
        "languages.insert(2, 'C#')\n",
        "print(languages)"
      ],
      "metadata": {
        "id": "uDb7EhkMRlz2",
        "colab": {
          "base_uri": "https://localhost:8080/"
        },
        "outputId": "16ad4491-a53a-497d-ca05-1cbfaba8c566"
      },
      "execution_count": null,
      "outputs": [
        {
          "output_type": "stream",
          "name": "stdout",
          "text": [
            "['Python', 'Java', 'C#', 'C', 'C++', 'JavaScript']\n"
          ]
        }
      ]
    },
    {
      "cell_type": "markdown",
      "source": [
        "Метод `remove`\n",
        "\n",
        "Принимает в качестве аргумента элемент, который мы хотим удалить."
      ],
      "metadata": {
        "id": "OLmQ1p3EA6m2"
      }
    },
    {
      "cell_type": "code",
      "source": [
        "languages = ['Python', 'Java', 'C', 'C++', 'JavaScript']\n",
        "languages.remove('C')\n",
        "\n",
        "print(languages)"
      ],
      "metadata": {
        "id": "UI4cWc5HBCbB",
        "colab": {
          "base_uri": "https://localhost:8080/"
        },
        "outputId": "f50bfba4-495c-419b-f606-4affbc55982b"
      },
      "execution_count": null,
      "outputs": [
        {
          "output_type": "stream",
          "name": "stdout",
          "text": [
            "['Python', 'Java', 'C++', 'JavaScript']\n"
          ]
        }
      ]
    },
    {
      "cell_type": "markdown",
      "source": [
        "`del`\n",
        "\n",
        "Позволяет удалить элементы по индексу/срезу."
      ],
      "metadata": {
        "id": "5U9-rVUTs58r"
      }
    },
    {
      "cell_type": "code",
      "source": [
        "languages = ['Python', 'Java', 'C', 'C++', 'JavaScript']\n",
        "\n",
        "del languages[1:3]\n",
        "print(languages)"
      ],
      "metadata": {
        "id": "LpL0YtYIB2UP",
        "colab": {
          "base_uri": "https://localhost:8080/"
        },
        "outputId": "4902a524-cc4e-450a-843a-032bb168c665"
      },
      "execution_count": null,
      "outputs": [
        {
          "output_type": "stream",
          "name": "stdout",
          "text": [
            "['Python', 'C++', 'JavaScript']\n"
          ]
        }
      ]
    },
    {
      "cell_type": "markdown",
      "source": [
        "Метод `clear`\n",
        "\n",
        "Полностью очищает исходный список."
      ],
      "metadata": {
        "id": "-WSOkqAZFlkX"
      }
    },
    {
      "cell_type": "code",
      "source": [
        "languages = ['Python', 'Java', 'C', 'C++', 'JavaScript']\n",
        "languages.clear()\n",
        "\n",
        "print(languages)"
      ],
      "metadata": {
        "id": "uuikgc_jF5CM",
        "colab": {
          "base_uri": "https://localhost:8080/"
        },
        "outputId": "de5492d7-cb3d-4846-ca70-1fb189f20ad4"
      },
      "execution_count": null,
      "outputs": [
        {
          "output_type": "stream",
          "name": "stdout",
          "text": [
            "[]\n"
          ]
        }
      ]
    },
    {
      "cell_type": "markdown",
      "source": [
        "Метод `count`\n",
        "\n",
        "В качестве аргумента принимает значение элемента, количество которого нужно посчитать."
      ],
      "metadata": {
        "id": "7n-T5js9F5Hf"
      }
    },
    {
      "cell_type": "code",
      "source": [
        "income_list = [13000, 14000, 14300, 15000, 13800, 13000, 14900, 15200, 15300]\n",
        "print(income_list.count(13000))"
      ],
      "metadata": {
        "id": "J5VKY1iIGJ2b",
        "colab": {
          "base_uri": "https://localhost:8080/"
        },
        "outputId": "23f153ff-5a00-4b82-d62c-0922ed8e6a75"
      },
      "execution_count": null,
      "outputs": [
        {
          "output_type": "stream",
          "name": "stdout",
          "text": [
            "0\n"
          ]
        }
      ]
    },
    {
      "cell_type": "code",
      "source": [
        "if income_list.count(13000) >= 2:\n",
        "    print('Много раз встречается')\n",
        "else:\n",
        "    print('Раз встречается')"
      ],
      "metadata": {
        "colab": {
          "base_uri": "https://localhost:8080/"
        },
        "id": "SW3hQ98OVvl2",
        "outputId": "bc7a5085-99c4-4285-e9ae-8dda95d430b9"
      },
      "execution_count": null,
      "outputs": [
        {
          "output_type": "stream",
          "name": "stdout",
          "text": [
            "Много раз встречается\n"
          ]
        }
      ]
    },
    {
      "cell_type": "markdown",
      "source": [
        "Метод `extend`\n",
        "\n",
        "Присоединяет один список к другому."
      ],
      "metadata": {
        "id": "PviAhUkJGJK2"
      }
    },
    {
      "cell_type": "code",
      "source": [
        "month_list = ['Jan', 'Feb', 'Mar', 'Apr', 'May', 'Jun', 'Jul', 'Aug', 'Sep']\n",
        "month_list_2 = ['Oct', 'Nov', 'Dec']\n",
        "\n",
        "month_list.extend(month_list_2)\n",
        "\n",
        "print(month_list)\n",
        "print(month_list_2)"
      ],
      "metadata": {
        "id": "hIG8dsbTGQjZ",
        "colab": {
          "base_uri": "https://localhost:8080/"
        },
        "outputId": "011b5e5d-21bd-40ba-f885-8c59005508f1"
      },
      "execution_count": null,
      "outputs": [
        {
          "output_type": "stream",
          "name": "stdout",
          "text": [
            "['Jan', 'Feb', 'Mar', 'Apr', 'May', 'Jun', 'Jul', 'Aug', 'Sep', 'Oct', 'Nov', 'Dec']\n",
            "['Oct', 'Nov', 'Dec']\n"
          ]
        }
      ]
    },
    {
      "cell_type": "markdown",
      "source": [
        "Также  можно складывать списки, но данная операция будет создавать новый список, а не менять исходный."
      ],
      "metadata": {
        "id": "0zdzk3OQGQoP"
      }
    },
    {
      "cell_type": "code",
      "source": [
        "month_list = ['Jan', 'Feb', 'Mar', 'Apr', 'May', 'Jun', 'Jul', 'Aug', 'Sep']\n",
        "month_list_2 = ['Oct', 'Nov', 'Dec']\n",
        "\n",
        "new_list = month_list + month_list_2\n",
        "print(new_list)"
      ],
      "metadata": {
        "id": "UwaBteWkGlKU",
        "colab": {
          "base_uri": "https://localhost:8080/"
        },
        "outputId": "0f837472-5a55-4ac1-8e10-d6865591df3d"
      },
      "execution_count": null,
      "outputs": [
        {
          "output_type": "stream",
          "name": "stdout",
          "text": [
            "['Jan', 'Feb', 'Mar', 'Apr', 'May', 'Jun', 'Jul', 'Aug', 'Sep', 'Oct', 'Nov', 'Dec']\n"
          ]
        }
      ]
    },
    {
      "cell_type": "markdown",
      "source": [
        "Метод `reverse`\n",
        "\n",
        "Разворачивает список :)\n",
        "\n"
      ],
      "metadata": {
        "id": "HG1aIGJwGlR3"
      }
    },
    {
      "cell_type": "code",
      "source": [
        "month_list = ['Jan', 'Feb', 'Mar', 'Apr', 'May', 'Jun', 'Jul', 'Aug', 'Sep']\n",
        "month_list.reverse()\n",
        "\n",
        "print(month_list)"
      ],
      "metadata": {
        "id": "LJi9Vwi5GnlA",
        "colab": {
          "base_uri": "https://localhost:8080/"
        },
        "outputId": "9dd06d3e-072c-4fe0-ee37-8d0dfd4c736e"
      },
      "execution_count": null,
      "outputs": [
        {
          "output_type": "stream",
          "name": "stdout",
          "text": [
            "['Sep', 'Aug', 'Jul', 'Jun', 'May', 'Apr', 'Mar', 'Feb', 'Jan']\n"
          ]
        }
      ]
    },
    {
      "cell_type": "markdown",
      "source": [
        "Срез с отрицательным шагом делает то же самое, но создаёт новый объект."
      ],
      "metadata": {
        "id": "FqwZ-W5NGnp5"
      }
    },
    {
      "cell_type": "code",
      "source": [
        "month_list = ['Jan', 'Feb', 'Mar', 'Apr', 'May', 'Jun', 'Jul', 'Aug', 'Sep']\n",
        "month_list = month_list[::-1]\n",
        "\n",
        "print(month_list)"
      ],
      "metadata": {
        "id": "Oxw5mgJvGy7R",
        "colab": {
          "base_uri": "https://localhost:8080/"
        },
        "outputId": "95a27fd5-6a6b-420c-cc5b-3f95ed815129"
      },
      "execution_count": null,
      "outputs": [
        {
          "output_type": "stream",
          "name": "stdout",
          "text": [
            "['Sep', 'Aug', 'Jul', 'Jun', 'May', 'Apr', 'Mar', 'Feb', 'Jan']\n"
          ]
        }
      ]
    },
    {
      "cell_type": "markdown",
      "source": [
        "Метод `sort`\n",
        "\n",
        "Внезапно, сортирует элементы в списке."
      ],
      "metadata": {
        "id": "wY3eJN3rGyWo"
      }
    },
    {
      "cell_type": "code",
      "source": [
        "income_list = [13000, 14000, 14300, 15000, 13800, 13000, 14900, 15200, 15300]\n",
        "income_list.sort()\n",
        "print(income_list)\n",
        "\n",
        "income_list.sort(reverse=True)\n",
        "print(income_list)"
      ],
      "metadata": {
        "id": "LQifOD99GzVt",
        "colab": {
          "base_uri": "https://localhost:8080/"
        },
        "outputId": "4791c2bd-b438-4835-a4a5-6a0136fe0715"
      },
      "execution_count": null,
      "outputs": [
        {
          "output_type": "stream",
          "name": "stdout",
          "text": [
            "[13000, 13000, 13800, 14000, 14300, 14900, 15000, 15200, 15300]\n",
            "[15300, 15200, 15000, 14900, 14300, 14000, 13800, 13000, 13000]\n"
          ]
        }
      ]
    },
    {
      "cell_type": "code",
      "source": [
        "income_list = [13000, 14000, 14300, 15000, 13800, 13000, 14900, 15200, 15300]\n",
        "min_el = min(income_list)\n",
        "print(min_el)"
      ],
      "metadata": {
        "id": "8UhjpH6vHEZI",
        "colab": {
          "base_uri": "https://localhost:8080/"
        },
        "outputId": "6e755a8f-4bbd-4ee8-e584-784d1fc3ab35"
      },
      "execution_count": null,
      "outputs": [
        {
          "output_type": "stream",
          "name": "stdout",
          "text": [
            "13000\n"
          ]
        }
      ]
    },
    {
      "cell_type": "markdown",
      "source": [
        "Функция `max`\n",
        "\n",
        "Определение максимального значения."
      ],
      "metadata": {
        "id": "Tz4b4zSEHEeZ"
      }
    },
    {
      "cell_type": "code",
      "source": [
        "income_list = [13000, 14000, 14300, 15000, 13800, 13000, 14900, 15200, 15300]\n",
        "max_el = max(income_list)\n",
        "print(max_el)"
      ],
      "metadata": {
        "id": "IMtTD6IsHHTN",
        "colab": {
          "base_uri": "https://localhost:8080/"
        },
        "outputId": "1e5ccbf3-0f73-4883-8c10-d48a2a404b68"
      },
      "execution_count": null,
      "outputs": [
        {
          "output_type": "stream",
          "name": "stdout",
          "text": [
            "15300\n"
          ]
        }
      ]
    },
    {
      "cell_type": "markdown",
      "source": [
        "Функция `sum`\n",
        "\n",
        "Суммирует элементы в последовательности."
      ],
      "metadata": {
        "id": "NmVi7CCnHHZd"
      }
    },
    {
      "cell_type": "code",
      "source": [
        "income_list = [13000, 14000, 14300, 15000, 13800, 13000, 14900, 15200, 15300]\n",
        "sum_ = sum(income_list)\n",
        "print(sum_)"
      ],
      "metadata": {
        "id": "ACGROgOEYwdf",
        "colab": {
          "base_uri": "https://localhost:8080/"
        },
        "outputId": "c7ce85b0-19af-401d-a3b3-d7ab587b6bab"
      },
      "execution_count": null,
      "outputs": [
        {
          "output_type": "stream",
          "name": "stdout",
          "text": [
            "128500\n"
          ]
        }
      ]
    },
    {
      "cell_type": "markdown",
      "source": [
        "Функция `len`\n",
        "\n",
        "Определеяет количество элементов в последвоательности."
      ],
      "metadata": {
        "id": "ZJTbFjmSplWF"
      }
    },
    {
      "cell_type": "code",
      "source": [
        "income_list = [13000, 14000, 14300, 15000, 13800, 13000, 14900, 15200, 15300]\n",
        "list_len = len(income_list)\n",
        "print(list_len)"
      ],
      "metadata": {
        "id": "s1A5mmGrpqDh",
        "colab": {
          "base_uri": "https://localhost:8080/"
        },
        "outputId": "f0f507f4-a255-41f3-bc5d-d24de9a4fb23"
      },
      "execution_count": null,
      "outputs": [
        {
          "output_type": "stream",
          "name": "stdout",
          "text": [
            "9\n"
          ]
        }
      ]
    },
    {
      "cell_type": "markdown",
      "metadata": {
        "id": "zRePKJbjRbF_"
      },
      "source": [
        "В примере ниже переменная `a` и `b` на самом деле указывают на один и тот же объект. В результате, при добавлении в `b` очередного элемента этот элемент добавляется и в исходном листе `a`.\n"
      ]
    },
    {
      "cell_type": "code",
      "execution_count": null,
      "metadata": {
        "id": "4NA4JW3oRbF_",
        "colab": {
          "base_uri": "https://localhost:8080/"
        },
        "outputId": "de127e76-79f1-4a8c-db88-ad6ce5b00c20"
      },
      "outputs": [
        {
          "output_type": "stream",
          "name": "stdout",
          "text": [
            "[1, 2, 3]\n",
            "139295888657344\n",
            "[1, 2, 3, 4]\n",
            "[1, 2, 3, 4]\n",
            "139295888657344\n",
            "139295888657344\n"
          ]
        }
      ],
      "source": [
        "a = [1, 2, 3]\n",
        "b = a\n",
        "b.append(4)\n",
        "\n",
        "print(a)\n",
        "print(b)\n",
        "\n",
        "print(id(a))\n",
        "print(id(b))"
      ]
    },
    {
      "cell_type": "code",
      "source": [
        "# создаем копию объекта\n",
        "a = [1, 2, 3]\n",
        "b = list(a)\n",
        "b.append(4)\n",
        "\n",
        "print(a)\n",
        "print(b)\n",
        "\n",
        "print(id(a))\n",
        "print(id(b))"
      ],
      "metadata": {
        "id": "UTXBlKQH5UTj",
        "colab": {
          "base_uri": "https://localhost:8080/"
        },
        "outputId": "a01388d6-f5ff-44b1-c506-98be69882d32"
      },
      "execution_count": null,
      "outputs": [
        {
          "output_type": "stream",
          "name": "stdout",
          "text": [
            "[1, 2, 3]\n",
            "[1, 2, 3, 4]\n",
            "139295888990912\n",
            "139295887512320\n"
          ]
        }
      ]
    },
    {
      "cell_type": "code",
      "source": [
        "# создаем копию объекта (другой способ)\n",
        "a = [1, 2, 3]\n",
        "b = a.copy()\n",
        "b.append(4)\n",
        "\n",
        "print(a)\n",
        "print(b)\n",
        "\n",
        "print(id(a))\n",
        "print(id(b))"
      ],
      "metadata": {
        "id": "ueU0RZeI5VOS",
        "colab": {
          "base_uri": "https://localhost:8080/"
        },
        "outputId": "3b630366-29d1-4b26-9f79-3b4677a24750"
      },
      "execution_count": null,
      "outputs": [
        {
          "output_type": "stream",
          "name": "stdout",
          "text": [
            "[1, 2, 3]\n",
            "[1, 2, 3, 4]\n",
            "139295899052224\n",
            "139295887454400\n"
          ]
        }
      ]
    },
    {
      "cell_type": "code",
      "source": [
        "# создаем копию объекта (еще способ)\n",
        "a = [1, 2, 3]\n",
        "b = a[:]\n",
        "b.append(4)\n",
        "\n",
        "print(a)\n",
        "print(b)\n",
        "\n",
        "print(id(a))\n",
        "print(id(b))"
      ],
      "metadata": {
        "id": "L43b6hgf5V47",
        "colab": {
          "base_uri": "https://localhost:8080/"
        },
        "outputId": "4fdefa59-f6a5-4003-900f-00f249fcd91b"
      },
      "execution_count": null,
      "outputs": [
        {
          "output_type": "stream",
          "name": "stdout",
          "text": [
            "[1, 2, 3]\n",
            "[1, 2, 3, 4]\n",
            "139295917295616\n",
            "139295887454016\n"
          ]
        }
      ]
    },
    {
      "cell_type": "markdown",
      "metadata": {
        "id": "-SQPe00qaqNv"
      },
      "source": [
        "### Вложенные списки\n",
        "\n",
        "Элементом списка может быть любой объект, в том числе и другой список."
      ]
    },
    {
      "cell_type": "code",
      "execution_count": null,
      "metadata": {
        "id": "ayi4rkl1aqNv"
      },
      "outputs": [],
      "source": [
        "my_list = [[1, 2, 3], [4, 5, 6], [7, 8, 9]]"
      ]
    },
    {
      "cell_type": "code",
      "execution_count": null,
      "metadata": {
        "id": "6wixIuMlaqNw",
        "colab": {
          "base_uri": "https://localhost:8080/"
        },
        "outputId": "e06f9c12-d8c5-4570-cd22-e376550d293f"
      },
      "outputs": [
        {
          "output_type": "stream",
          "name": "stdout",
          "text": [
            "1\n"
          ]
        }
      ],
      "source": [
        "print(my_list[0][0])"
      ]
    },
    {
      "cell_type": "markdown",
      "source": [
        "Какая длина у каждого из этих списков?"
      ],
      "metadata": {
        "id": "pjMSpO825AGo"
      }
    },
    {
      "cell_type": "code",
      "source": [
        "a = [1, 2, 3]\n",
        "b = [1, [2, 3]]\n",
        "c = []\n",
        "d = [1, 2, 3][1:]"
      ],
      "metadata": {
        "id": "v1NoMIOD5BoD"
      },
      "execution_count": null,
      "outputs": []
    },
    {
      "cell_type": "markdown",
      "source": [
        "\n",
        "### Дополнительные материалы\n",
        "\n",
        "* [Как добавить элементы в список](https://teletype.in/@pythontalk/append_lists)\n",
        "* [Как удалить элементы из списка](https://teletype.in/@pythontalk/list_remove)\n",
        "* [Как удалить дубли из списка](https://teletype.in/@pythontalk/remove_duplicates)"
      ],
      "metadata": {
        "id": "L7BSIujeJjcJ"
      }
    },
    {
      "cell_type": "markdown",
      "source": [
        "## Кортежи\n",
        "\n",
        "Кортежи в Python очень похожи на списки, но являются неизменяемыми. Их можно создать один раз и затем использовать без модификации элементов внутри.\n",
        "Все операции, которые не изменяют исходный объект (сложение, умножение на число, методы `index()`, `count()` и пр.) доступны для кортежа."
      ],
      "metadata": {
        "id": "OGs53BMRYwje"
      }
    },
    {
      "cell_type": "markdown",
      "source": [
        "Пустой кортеж можно создать так:"
      ],
      "metadata": {
        "id": "m5IE4PS1ZJHY"
      }
    },
    {
      "cell_type": "code",
      "source": [
        "tuple_ = ()\n",
        "print(type(tuple_))"
      ],
      "metadata": {
        "id": "L5UkeahCZKSQ",
        "colab": {
          "base_uri": "https://localhost:8080/"
        },
        "outputId": "05442cd9-198e-4aca-8b7e-838a77b3f364"
      },
      "execution_count": null,
      "outputs": [
        {
          "output_type": "stream",
          "name": "stdout",
          "text": [
            "<class 'tuple'>\n"
          ]
        }
      ]
    },
    {
      "cell_type": "markdown",
      "source": [
        "А что насчёт кортежа из одного элемента?\n",
        "\n"
      ],
      "metadata": {
        "id": "PDpCV9zaZLe0"
      }
    },
    {
      "cell_type": "code",
      "source": [
        "one_el_tuple = (42)\n",
        "print(type(one_el_tuple))"
      ],
      "metadata": {
        "id": "WgZbpWLGZMlo",
        "colab": {
          "base_uri": "https://localhost:8080/"
        },
        "outputId": "cba98236-0516-474b-ef9f-51c5395f8736"
      },
      "execution_count": null,
      "outputs": [
        {
          "output_type": "stream",
          "name": "stdout",
          "text": [
            "<class 'int'>\n"
          ]
        }
      ]
    },
    {
      "cell_type": "markdown",
      "source": [
        "Для кортежа важно поставить запятую:"
      ],
      "metadata": {
        "id": "ZoS0dxGlZPWe"
      }
    },
    {
      "cell_type": "code",
      "source": [
        "one_el_tuple = (42, )\n",
        "print(type(one_el_tuple))"
      ],
      "metadata": {
        "id": "W0q1Cx-fZQO5",
        "colab": {
          "base_uri": "https://localhost:8080/"
        },
        "outputId": "dffb991e-9234-4215-9cb8-c454b52d4903"
      },
      "execution_count": null,
      "outputs": [
        {
          "output_type": "stream",
          "name": "stdout",
          "text": [
            "<class 'tuple'>\n"
          ]
        }
      ]
    },
    {
      "cell_type": "markdown",
      "source": [
        "Кортежи занимают меньший объём памяти. Чтобы увидеть это, можно воспользоваться хитрым методом `.__sizeof__()`."
      ],
      "metadata": {
        "id": "1JSO87FxY68V"
      }
    },
    {
      "cell_type": "code",
      "source": [
        "tuple_ = (1, 2, 3, 4, 5, 6)\n",
        "list_ = [1, 2, 3, 4, 5, 6]\n",
        "\n",
        "print(tuple_.__sizeof__())\n",
        "print(list_.__sizeof__())"
      ],
      "metadata": {
        "id": "DDXZLAhfY80G",
        "colab": {
          "base_uri": "https://localhost:8080/"
        },
        "outputId": "faacda35-5798-4b13-8d67-7e274341bee2"
      },
      "execution_count": null,
      "outputs": [
        {
          "output_type": "stream",
          "name": "stdout",
          "text": [
            "72\n",
            "88\n"
          ]
        }
      ]
    },
    {
      "cell_type": "markdown",
      "source": [
        "Так как кортежи неизменяемы, то вот так изменить их элементы мы не сможем (аналогично, как со строками)."
      ],
      "metadata": {
        "id": "AwgVpW0k5mNJ"
      }
    },
    {
      "cell_type": "code",
      "source": [
        "tuple_[0] = 500"
      ],
      "metadata": {
        "id": "BixJ3fNQ5nmn",
        "colab": {
          "base_uri": "https://localhost:8080/",
          "height": 141
        },
        "outputId": "28460671-ad7d-4dcc-a58f-b66b9a782617"
      },
      "execution_count": null,
      "outputs": [
        {
          "output_type": "error",
          "ename": "TypeError",
          "evalue": "'tuple' object does not support item assignment",
          "traceback": [
            "\u001b[0;31m---------------------------------------------------------------------------\u001b[0m",
            "\u001b[0;31mTypeError\u001b[0m                                 Traceback (most recent call last)",
            "\u001b[0;32m<ipython-input-92-8b0425551352>\u001b[0m in \u001b[0;36m<cell line: 1>\u001b[0;34m()\u001b[0m\n\u001b[0;32m----> 1\u001b[0;31m \u001b[0mtuple_\u001b[0m\u001b[0;34m[\u001b[0m\u001b[0;36m0\u001b[0m\u001b[0;34m]\u001b[0m \u001b[0;34m=\u001b[0m \u001b[0;36m500\u001b[0m\u001b[0;34m\u001b[0m\u001b[0;34m\u001b[0m\u001b[0m\n\u001b[0m",
            "\u001b[0;31mTypeError\u001b[0m: 'tuple' object does not support item assignment"
          ]
        }
      ]
    },
    {
      "cell_type": "code",
      "source": [
        "help(tuple)"
      ],
      "metadata": {
        "id": "q8jCzPe9K81p",
        "colab": {
          "base_uri": "https://localhost:8080/"
        },
        "outputId": "86d4261a-7996-4002-f6cc-67b53d04b646"
      },
      "execution_count": null,
      "outputs": [
        {
          "output_type": "stream",
          "name": "stdout",
          "text": [
            "Help on class tuple in module builtins:\n",
            "\n",
            "class tuple(object)\n",
            " |  tuple(iterable=(), /)\n",
            " |  \n",
            " |  Built-in immutable sequence.\n",
            " |  \n",
            " |  If no argument is given, the constructor returns an empty tuple.\n",
            " |  If iterable is specified the tuple is initialized from iterable's items.\n",
            " |  \n",
            " |  If the argument is a tuple, the return value is the same object.\n",
            " |  \n",
            " |  Built-in subclasses:\n",
            " |      asyncgen_hooks\n",
            " |      MonthDayNano\n",
            " |      UnraisableHookArgs\n",
            " |      VersionInfoAttributes\n",
            " |  \n",
            " |  Methods defined here:\n",
            " |  \n",
            " |  __add__(self, value, /)\n",
            " |      Return self+value.\n",
            " |  \n",
            " |  __contains__(self, key, /)\n",
            " |      Return key in self.\n",
            " |  \n",
            " |  __eq__(self, value, /)\n",
            " |      Return self==value.\n",
            " |  \n",
            " |  __ge__(self, value, /)\n",
            " |      Return self>=value.\n",
            " |  \n",
            " |  __getattribute__(self, name, /)\n",
            " |      Return getattr(self, name).\n",
            " |  \n",
            " |  __getitem__(self, key, /)\n",
            " |      Return self[key].\n",
            " |  \n",
            " |  __getnewargs__(self, /)\n",
            " |  \n",
            " |  __gt__(self, value, /)\n",
            " |      Return self>value.\n",
            " |  \n",
            " |  __hash__(self, /)\n",
            " |      Return hash(self).\n",
            " |  \n",
            " |  __iter__(self, /)\n",
            " |      Implement iter(self).\n",
            " |  \n",
            " |  __le__(self, value, /)\n",
            " |      Return self<=value.\n",
            " |  \n",
            " |  __len__(self, /)\n",
            " |      Return len(self).\n",
            " |  \n",
            " |  __lt__(self, value, /)\n",
            " |      Return self<value.\n",
            " |  \n",
            " |  __mul__(self, value, /)\n",
            " |      Return self*value.\n",
            " |  \n",
            " |  __ne__(self, value, /)\n",
            " |      Return self!=value.\n",
            " |  \n",
            " |  __repr__(self, /)\n",
            " |      Return repr(self).\n",
            " |  \n",
            " |  __rmul__(self, value, /)\n",
            " |      Return value*self.\n",
            " |  \n",
            " |  count(self, value, /)\n",
            " |      Return number of occurrences of value.\n",
            " |  \n",
            " |  index(self, value, start=0, stop=9223372036854775807, /)\n",
            " |      Return first index of value.\n",
            " |      \n",
            " |      Raises ValueError if the value is not present.\n",
            " |  \n",
            " |  ----------------------------------------------------------------------\n",
            " |  Class methods defined here:\n",
            " |  \n",
            " |  __class_getitem__(...) from builtins.type\n",
            " |      See PEP 585\n",
            " |  \n",
            " |  ----------------------------------------------------------------------\n",
            " |  Static methods defined here:\n",
            " |  \n",
            " |  __new__(*args, **kwargs) from builtins.type\n",
            " |      Create and return a new object.  See help(type) for accurate signature.\n",
            "\n"
          ]
        }
      ]
    },
    {
      "cell_type": "markdown",
      "source": [
        "## Преобразование составных структур"
      ],
      "metadata": {
        "id": "8niYz8q2reBi"
      }
    },
    {
      "cell_type": "markdown",
      "source": [
        "Строки в кортеж и список"
      ],
      "metadata": {
        "id": "jWBKEDn0_4_l"
      }
    },
    {
      "cell_type": "code",
      "source": [
        "some_str = 'Hello'\n",
        "\n",
        "str_to_list = list(some_str)\n",
        "print(str_to_list)\n",
        "\n",
        "str_to_tuple = tuple(some_str)\n",
        "print(str_to_tuple)"
      ],
      "metadata": {
        "id": "CoMv299XrhVi",
        "colab": {
          "base_uri": "https://localhost:8080/"
        },
        "outputId": "deca0316-a4f0-4a09-bb48-04b48dbd2cd3"
      },
      "execution_count": null,
      "outputs": [
        {
          "output_type": "stream",
          "name": "stdout",
          "text": [
            "['H', 'e', 'l', 'l', 'o']\n",
            "('H', 'e', 'l', 'l', 'o')\n"
          ]
        }
      ]
    },
    {
      "cell_type": "markdown",
      "source": [
        "Список в строку и кортеж"
      ],
      "metadata": {
        "id": "6RJiN97D_-Xv"
      }
    },
    {
      "cell_type": "code",
      "source": [
        "some_list = ['a', 'b', 'c']\n",
        "list_to_str = str(some_list)  # но так делать не стоит\n",
        "print(list_to_str)\n",
        "\n",
        "some_str_list = ['a', 'b', 'c']\n",
        "str_list_to_str = ''.join(some_str_list)\n",
        "print(str_list_to_str)\n",
        "\n",
        "# list_to_tuple = tuple(some_list)\n",
        "# print(list_to_tuple)"
      ],
      "metadata": {
        "id": "84Q6bG42rnwW",
        "colab": {
          "base_uri": "https://localhost:8080/"
        },
        "outputId": "c743524a-f05a-42b4-dda2-902edc7688ee"
      },
      "execution_count": null,
      "outputs": [
        {
          "output_type": "stream",
          "name": "stdout",
          "text": [
            "['a', 'b', 'c']\n",
            "abc\n"
          ]
        }
      ]
    },
    {
      "cell_type": "markdown",
      "source": [
        "Кортеж в строку и список"
      ],
      "metadata": {
        "id": "ja3orYiwAAMo"
      }
    },
    {
      "cell_type": "code",
      "source": [
        "some_tuple = ('a', 'b', 'c')\n",
        "\n",
        "tuple_to_str = str(some_tuple) # и так делать не стоит\n",
        "print(tuple_to_str)\n",
        "\n",
        "some_str_tuple = ('a', 'b', 'c')\n",
        "str_tuple_to_str = ' '.join(some_str_tuple)\n",
        "print(str_tuple_to_str)\n",
        "\n",
        "tuple_to_list = list(some_tuple)\n",
        "print(tuple_to_list)"
      ],
      "metadata": {
        "id": "1iantGsvsEIM",
        "colab": {
          "base_uri": "https://localhost:8080/"
        },
        "outputId": "32e191fd-3edf-47ca-b8ea-19404ad505fa"
      },
      "execution_count": null,
      "outputs": [
        {
          "output_type": "stream",
          "name": "stdout",
          "text": [
            "('a', 'b', 'c')\n",
            "a b c\n",
            "['a', 'b', 'c']\n"
          ]
        }
      ]
    },
    {
      "cell_type": "markdown",
      "metadata": {
        "id": "lU7i_wOgRSHm"
      },
      "source": [
        "## Множественное [присваивание](https://teletype.in/@pythontalk/assignment_operators)\n",
        "\n",
        "В Python существует множественное присваивание, которое позволяет присваивать значения нескольким переменным одновременно. При множественном присваивании порядок присваивания формируется слева направо. Количество значений в объекте справа и количество переменных слева от оператора присваивания должно совпадать."
      ]
    },
    {
      "cell_type": "code",
      "metadata": {
        "id": "P6bCFVfmRWGy",
        "colab": {
          "base_uri": "https://localhost:8080/"
        },
        "outputId": "8786c594-1c82-4051-fffd-9cd9939c10d6"
      },
      "source": [
        "name = 'Илон'\n",
        "pro = 'Разработчик'\n",
        "salary = 100000\n",
        "\n",
        "name, pro, salary = 'Илон', 'Разработчик', 100000\n",
        "print(name)\n",
        "print(pro)\n",
        "print(salary)"
      ],
      "execution_count": null,
      "outputs": [
        {
          "output_type": "stream",
          "name": "stdout",
          "text": [
            "Илон\n",
            "Разработчик\n",
            "100000\n"
          ]
        }
      ]
    },
    {
      "cell_type": "markdown",
      "metadata": {
        "id": "erwQla1f2Q1s"
      },
      "source": [
        "Благодаря множественному присваиванию в Python легко решается задача замены переменных местами.\n",
        "\n",
        "В других языках эта задача решается через третью переменную."
      ]
    },
    {
      "cell_type": "code",
      "metadata": {
        "id": "nNGT-dkt2Q1s",
        "colab": {
          "base_uri": "https://localhost:8080/"
        },
        "outputId": "3b2a0a76-5668-4e23-cf52-aa976ac94ad5"
      },
      "source": [
        "answer = 42\n",
        "code = 4815162342\n",
        "\n",
        "c = answer\n",
        "\n",
        "answer = code\n",
        "code = c\n",
        "\n",
        "print(answer, code)"
      ],
      "execution_count": null,
      "outputs": [
        {
          "output_type": "stream",
          "name": "stdout",
          "text": [
            "4815162342 42\n"
          ]
        }
      ]
    },
    {
      "cell_type": "markdown",
      "metadata": {
        "id": "Nva22H5j2Q1t"
      },
      "source": [
        "А в Python можно так:"
      ]
    },
    {
      "cell_type": "code",
      "metadata": {
        "id": "qMqqa8I82Q1t",
        "colab": {
          "base_uri": "https://localhost:8080/"
        },
        "outputId": "29f09f20-d76c-41af-b671-3e0fd93fd03f"
      },
      "source": [
        "answer, code = code, answer\n",
        "print(answer, code)"
      ],
      "execution_count": null,
      "outputs": [
        {
          "output_type": "stream",
          "name": "stdout",
          "text": [
            "42 4815162342\n"
          ]
        }
      ]
    },
    {
      "cell_type": "markdown",
      "metadata": {
        "id": "0ltwpcw_RbGD"
      },
      "source": [
        "4 участника гонок в начале занимали позиции согласно их порядку в представленном списке. Но к окончанию гонки первый участник оказался на последнем месте, а последний на первом. Измените список соответствущим образом максимально лаконично.\n"
      ]
    },
    {
      "cell_type": "code",
      "execution_count": null,
      "metadata": {
        "id": "CfECQPE7RbGD"
      },
      "outputs": [],
      "source": [
        "racers = ['Шумахер', 'Хэмилтон', 'Алонсо', 'Райкконен']"
      ]
    },
    {
      "cell_type": "code",
      "source": [
        "racers[0], racers[-1] = racers[-1], racers[0]\n",
        "\n",
        "print(racers)"
      ],
      "metadata": {
        "id": "GTad2PG97zeh",
        "colab": {
          "base_uri": "https://localhost:8080/"
        },
        "outputId": "2ba99bf7-cfc5-458a-843a-4aff5aead5b9"
      },
      "execution_count": null,
      "outputs": [
        {
          "output_type": "stream",
          "name": "stdout",
          "text": [
            "['Райкконен', 'Хэмилтон', 'Алонсо', 'Шумахер']\n"
          ]
        }
      ]
    },
    {
      "cell_type": "code",
      "source": [
        "racers[0], racers[3] = racers[3], racers[0]\n",
        "\n",
        "print(racers)"
      ],
      "metadata": {
        "id": "Pu-esL7CpLSy",
        "colab": {
          "base_uri": "https://localhost:8080/"
        },
        "outputId": "ce400a31-ab14-4c2b-b779-227e29552d41"
      },
      "execution_count": null,
      "outputs": [
        {
          "output_type": "stream",
          "name": "stdout",
          "text": [
            "['Шумахер', 'Хэмилтон', 'Алонсо', 'Райкконен']\n"
          ]
        }
      ]
    },
    {
      "cell_type": "markdown",
      "source": [
        "## [Функция `zip`](https://t.me/pythontalk_ru/530)\n",
        "\n",
        "Функция `zip()` в Python используется для объединения элементов из нескольких структур данных в [итератор](https://teletype.in/@pythontalk/iterator_generator).  \n",
        "Этот итератор содержит кортежи с поэлементно сгруппированными элементами исходных структур.  \n",
        "Если элементов в одном из источников заканчиваются, функция останавливается.\n"
      ],
      "metadata": {
        "id": "dWn1d5V18u1F"
      }
    },
    {
      "cell_type": "code",
      "source": [
        "month_list = ['Jan', 'Feb', 'Mar', 'Apr', 'May', 'Jun', 'Jul', 'Aug', 'Sep']\n",
        "income_list = (13000, 14000, 14300, 15000, 13800, 13000, 14900, 15200, 15300)"
      ],
      "metadata": {
        "id": "fQSvs1dO9ar7"
      },
      "execution_count": null,
      "outputs": []
    },
    {
      "cell_type": "code",
      "source": [
        "salaries_by_names = zip(month_list, income_list)\n",
        "print(salaries_by_names)"
      ],
      "metadata": {
        "id": "H9llkxGQ9b7f",
        "colab": {
          "base_uri": "https://localhost:8080/"
        },
        "outputId": "1b34dd70-de24-4ad0-c11c-020f840abe8b"
      },
      "execution_count": null,
      "outputs": [
        {
          "output_type": "stream",
          "name": "stdout",
          "text": [
            "<zip object at 0x7eb059fa6780>\n"
          ]
        }
      ]
    },
    {
      "cell_type": "markdown",
      "source": [
        "Итератор можно преобразовать в составной тип данных или пройтись по нему циклом."
      ],
      "metadata": {
        "id": "QQBPZYYF9fM2"
      }
    },
    {
      "cell_type": "code",
      "source": [
        "print(list(salaries_by_names))"
      ],
      "metadata": {
        "id": "iW4j9QsR9lNk",
        "colab": {
          "base_uri": "https://localhost:8080/"
        },
        "outputId": "05fcd480-4f30-4cc4-fdc6-0828f83ea7f4"
      },
      "execution_count": null,
      "outputs": [
        {
          "output_type": "stream",
          "name": "stdout",
          "text": [
            "[('Jan', 13000), ('Feb', 14000), ('Mar', 14300), ('Apr', 15000), ('May', 13800), ('Jun', 13000), ('Jul', 14900), ('Aug', 15200), ('Sep', 15300)]\n"
          ]
        }
      ]
    },
    {
      "cell_type": "markdown",
      "metadata": {
        "id": "LHb1QQPaRbGD"
      },
      "source": [
        "## Операторы `in`, `not in`\n",
        "\n",
        "Возвращает `True`, если элемент содержится / не содержится в последовательности (списке, кортеже, строке и пр.)."
      ]
    },
    {
      "cell_type": "code",
      "execution_count": null,
      "metadata": {
        "id": "Bk_rsQ3YRbGD",
        "colab": {
          "base_uri": "https://localhost:8080/"
        },
        "outputId": "e7ec8818-eebe-4e4f-aa06-5ddab4b59fae"
      },
      "outputs": [
        {
          "output_type": "stream",
          "name": "stdout",
          "text": [
            "True\n",
            "False\n"
          ]
        }
      ],
      "source": [
        "print('Hello' in 'Hello World')\n",
        "print('Hello' not in 'Hello World')"
      ]
    },
    {
      "cell_type": "code",
      "execution_count": null,
      "metadata": {
        "id": "FzBAPzwyRbGE",
        "colab": {
          "base_uri": "https://localhost:8080/"
        },
        "outputId": "4f131b17-c70a-423c-8221-3f75e76ea5f5"
      },
      "outputs": [
        {
          "output_type": "stream",
          "name": "stdout",
          "text": [
            "True\n",
            "False\n"
          ]
        }
      ],
      "source": [
        "print('Москва' in ['Санкт-Петербург', 'Екатеринбург', 'Калининград', 'Москва'])\n",
        "print('Москва' not in ['Санкт-Петербург', 'Екатеринбург', 'Калининград', 'Москва'])"
      ]
    },
    {
      "cell_type": "code",
      "source": [
        "sea_animals = ['лебедь', 'рак', 'щука']\n",
        "\n",
        "if 'щука' in sea_animals:\n",
        "  print('Варим уху')\n",
        "else:\n",
        "  print('Сегодня без ухи')"
      ],
      "metadata": {
        "id": "bixlHFckCl3Y",
        "colab": {
          "base_uri": "https://localhost:8080/"
        },
        "outputId": "0e121dac-d769-4842-8eeb-af4be5a2e344"
      },
      "execution_count": null,
      "outputs": [
        {
          "output_type": "stream",
          "name": "stdout",
          "text": [
            "Варим уху\n"
          ]
        }
      ]
    },
    {
      "cell_type": "code",
      "source": [
        "some_list = [[1, 2, 3], [4, 5, 6], [7, 8, 9]]\n",
        "print(2 in some_list)\n",
        "print(2 in some_list[0])"
      ],
      "metadata": {
        "id": "G_GoQYm7e0XJ",
        "colab": {
          "base_uri": "https://localhost:8080/"
        },
        "outputId": "741a0e5d-8408-4675-e1e6-14a6c6718067"
      },
      "execution_count": null,
      "outputs": [
        {
          "output_type": "stream",
          "name": "stdout",
          "text": [
            "False\n",
            "True\n"
          ]
        }
      ]
    },
    {
      "cell_type": "markdown",
      "source": [
        "Для продвинутых рекомендую почитать материал про [структуры данных и алгоритмы в Python](https://teletype.in/@pythontalk/data_structures_algorithms).\n",
        "\n"
      ],
      "metadata": {
        "id": "q18bTBYYJset"
      }
    }
  ],
  "metadata": {
    "kernelspec": {
      "display_name": "Python 3 (ipykernel)",
      "language": "python",
      "name": "python3"
    },
    "language_info": {
      "codemirror_mode": {
        "name": "ipython",
        "version": 3
      },
      "file_extension": ".py",
      "mimetype": "text/x-python",
      "name": "python",
      "nbconvert_exporter": "python",
      "pygments_lexer": "ipython3",
      "version": "3.10.9"
    },
    "toc": {
      "base_numbering": 1,
      "nav_menu": {},
      "number_sections": true,
      "sideBar": true,
      "skip_h1_title": false,
      "title_cell": "Table of Contents",
      "title_sidebar": "Contents",
      "toc_cell": false,
      "toc_position": {},
      "toc_section_display": true,
      "toc_window_display": false
    },
    "colab": {
      "provenance": [],
      "include_colab_link": true
    }
  },
  "nbformat": 4,
  "nbformat_minor": 0
}