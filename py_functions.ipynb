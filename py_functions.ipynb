{
  "nbformat": 4,
  "nbformat_minor": 0,
  "metadata": {
    "colab": {
      "provenance": [],
      "include_colab_link": true
    },
    "kernelspec": {
      "name": "python3",
      "display_name": "Python 3"
    },
    "language_info": {
      "name": "python"
    }
  },
  "cells": [
    {
      "cell_type": "markdown",
      "metadata": {
        "id": "view-in-github",
        "colab_type": "text"
      },
      "source": [
        "<a href=\"https://colab.research.google.com/github/GolubchikovKirill/colab/blob/main/py_functions.ipynb\" target=\"_parent\"><img src=\"https://colab.research.google.com/assets/colab-badge.svg\" alt=\"Open In Colab\"/></a>"
      ]
    },
    {
      "cell_type": "markdown",
      "metadata": {
        "id": "edQI-m-cCgpV"
      },
      "source": [
        "# Функции\n",
        "\n",
        "**Булыгин Олег**\n",
        "* [Я в LinkedIn](https://www.linkedin.com/in/obulygin/)  \n",
        "* [Мой канал в ТГ по Python](https://t.me/pythontalk_ru)\n",
        "* [Чат канала](https://t.me/pythontalk_chat)\n",
        "* [Блог в Телетайпе](https://teletype.in/@pythontalk)\n",
        "\n",
        "Ссылочки в ноутбуке ведут на полезные доп. материалы, обязательно всё изучайте :)\n"
      ]
    },
    {
      "cell_type": "markdown",
      "metadata": {
        "id": "pc8i9xaId7PQ"
      },
      "source": [
        "[Функции](https://teletype.in/@pythontalk/functions_python) – это обособленный участок кода, который можно вызывать, обратившись к нему по имени, которым он был назван (подпрограмма). Это объект, принимающий аргументы и возвращающий значение.\n"
      ]
    },
    {
      "cell_type": "markdown",
      "metadata": {
        "id": "XOY7VKI357LA"
      },
      "source": [
        "## Определение функции\n",
        "\n",
        "Существуют некоторые правила для создания функций в Python:\n",
        "\n",
        "+ Блок функции начинается с ключевого слова def, после которого следуют название функции и круглые скобки ()\n",
        "\n",
        "+ Любые аргументы, которые принимает функция должны находиться внутри этих скобок.\n",
        "\n",
        "+ После скобок идет двоеточие ( : ) и с новой строки с отступом начинается тело функции."
      ]
    },
    {
      "cell_type": "code",
      "source": [
        "def my_function():\n",
        "    print('Эта наша первая функция')"
      ],
      "metadata": {
        "id": "oXvudwffqrft"
      },
      "execution_count": null,
      "outputs": []
    },
    {
      "cell_type": "code",
      "source": [
        "my_function()"
      ],
      "metadata": {
        "id": "Pfnmq0rZqyoU",
        "colab": {
          "base_uri": "https://localhost:8080/"
        },
        "outputId": "2d78cfb0-e822-4a1f-cdc1-dafd413339ef"
      },
      "execution_count": null,
      "outputs": [
        {
          "output_type": "stream",
          "name": "stdout",
          "text": [
            "Эта наша первая функция\n"
          ]
        }
      ]
    },
    {
      "cell_type": "markdown",
      "source": [
        "Есть **определение** и **вызов** функции. Это разные процессы."
      ],
      "metadata": {
        "id": "0prL684cq21M"
      }
    },
    {
      "cell_type": "markdown",
      "metadata": {
        "id": "1FTFp8paIgz-"
      },
      "source": [
        "**Функции придают программе структуру**\n",
        "\n",
        "Польза функций не только в возможности многократного вызова одного и того же кода из разных мест программы. Не менее важно, что благодаря им программа обретает четкую структуру. Функции как бы разделяют ее на обособленные части, каждая из которых выполняет свою конкретную задачу.\n",
        "\n",
        "Пусть надо написать программу, вычисляющую площади разных фигур. Пользователь указывает, площадь какой фигуры он хочет вычислить. После этого вводит исходные данные. Например, длину и ширину в случае прямоугольника. Чтобы разделить поток выполнения на несколько ветвей, следует использовать оператор if-elif-else:"
      ]
    },
    {
      "cell_type": "code",
      "metadata": {
        "id": "dKIiW8aSIg0A",
        "colab": {
          "base_uri": "https://localhost:8080/"
        },
        "outputId": "e2c05af9-ee1a-4207-92f9-ffcc2388ba81"
      },
      "source": [
        "figure = input('1-прямоугольник, 2-треугольник, 3-круг: ')\n",
        "\n",
        "if figure == '1':\n",
        "    a = float(input('Ширина: '))\n",
        "    b = float(input('Высота: '))\n",
        "    print(f'Площадь: {a*b}')\n",
        "elif figure == '2':\n",
        "    a = float(input('Основание: '))\n",
        "    h = float(input('Высота: '))\n",
        "    print(f'Площадь: {0.5 * a * h}')\n",
        "elif figure == '3':\n",
        "    r = float(input('Радиус: '))\n",
        "    print(f'Площадь: {3.14 * r**2}')\n",
        "else:\n",
        "    print('Ошибка ввода')"
      ],
      "execution_count": null,
      "outputs": [
        {
          "output_type": "stream",
          "name": "stdout",
          "text": [
            "1-прямоугольник, 2-треугольник, 3-круг: 2\n",
            "Основание: 5\n",
            "Высота: 8\n",
            "Площадь: 20.0\n"
          ]
        }
      ]
    },
    {
      "cell_type": "markdown",
      "metadata": {
        "id": "v4Xh1dEWIg0e"
      },
      "source": [
        "Из общей логики программы мы выделяем инструкции для нахождения площадей. Программа теперь состоит из отдельных 'кирпичиков Лего'. В основной ветке мы можем комбинировать их как угодно. Она играет роль управляющего механизма.\n",
        "\n",
        "Если нам когда-нибудь захочется вычислять площадь треугольника по формуле Герона, а не через высоту, то не придется искать код во всей программе (представьте, что она состоит из тысяч строк кода как реальные программы). Мы пойдем к месту определения функций и изменим тело одной из них.\n",
        "\n",
        "Если понадобиться использовать эти функции в какой-нибудь другой программе, то мы сможем импортировать их туда, сославшись на данный файл с кодом."
      ]
    },
    {
      "cell_type": "code",
      "metadata": {
        "id": "X4eLEHn6Ig0G",
        "colab": {
          "base_uri": "https://localhost:8080/"
        },
        "outputId": "ccd2eeba-d411-4f13-a34f-4dfd5731e176"
      },
      "source": [
        "def rectangle():\n",
        "    a = float(input('Ширина: '))\n",
        "    b = float(input('Высота: '))\n",
        "    print(f'Площадь: {a*b}')\n",
        "\n",
        "def triangle():\n",
        "    a = float(input('Основание: '))\n",
        "    h = float(input('Высота: '))\n",
        "    print(f'Площадь: {0.5 * a * h}')\n",
        "\n",
        "def circle():\n",
        "    r = float(input('Радиус: '))\n",
        "    print(f'Площадь: {3.14 * r**2}')\n",
        "\n",
        "def main():\n",
        "    figure = input('1-прямоугольник, 2-треугольник, 3-круг: ')\n",
        "    if figure == '1':\n",
        "        rectangle()\n",
        "    elif figure == '2':\n",
        "        triangle()\n",
        "    elif figure == '3':\n",
        "        circle()\n",
        "    else:\n",
        "        print('Ошибка ввода')\n",
        "\n",
        "main()"
      ],
      "execution_count": null,
      "outputs": [
        {
          "output_type": "stream",
          "name": "stdout",
          "text": [
            "1-прямоугольник, 2-треугольник, 3-круг: 2\n",
            "Основание: 5\n",
            "Высота: 8\n",
            "Площадь: 20.0\n"
          ]
        }
      ]
    },
    {
      "cell_type": "markdown",
      "source": [
        "## Ключевое слово return\n",
        "\n",
        "* Ключевое слово return прекращает выполнение функции и возвращает указанное после выражения значение.\n",
        "\n",
        "* Ключевое слово return без аргументов это то же самое, что и выражение return None.\n",
        "\n",
        "* То, что функция возвращает можно присваивать какой-либо переменной."
      ],
      "metadata": {
        "id": "QWFY3FGyrvWC"
      }
    },
    {
      "cell_type": "code",
      "source": [
        "def square():\n",
        "    user_input = int(input('Введите число'))\n",
        "    result = user_input ** 2\n",
        "    return result\n",
        "\n",
        "res = square()\n",
        "print(res)"
      ],
      "metadata": {
        "id": "wxwoGjNtr5X2",
        "colab": {
          "base_uri": "https://localhost:8080/"
        },
        "outputId": "9937f123-3b85-434a-a75b-b8e613a07641"
      },
      "execution_count": null,
      "outputs": [
        {
          "output_type": "stream",
          "name": "stdout",
          "text": [
            "Введите число5\n",
            "25\n"
          ]
        }
      ]
    },
    {
      "cell_type": "code",
      "source": [
        "# функция print в качестве аргумента будет принимать именно возврат переданной в нее функции\n",
        "print(square())"
      ],
      "metadata": {
        "id": "33HUF9ewtSyi",
        "colab": {
          "base_uri": "https://localhost:8080/"
        },
        "outputId": "ce1a8959-e51f-4abd-adda-0f0ae4193a74"
      },
      "execution_count": null,
      "outputs": [
        {
          "output_type": "stream",
          "name": "stdout",
          "text": [
            "Введите число8\n",
            "64\n"
          ]
        }
      ]
    },
    {
      "cell_type": "markdown",
      "source": [
        "Как думаете, что получим сейчас?"
      ],
      "metadata": {
        "id": "PFHL4qxKstOs"
      }
    },
    {
      "cell_type": "code",
      "source": [
        "def square():\n",
        "    user_input = int(input('Введите число'))\n",
        "    result = user_input ** 2\n",
        "    print(result)\n",
        "\n",
        "print(square())"
      ],
      "metadata": {
        "id": "OTwojwhGsw10",
        "colab": {
          "base_uri": "https://localhost:8080/"
        },
        "outputId": "e9e397e5-19fd-474a-e7ea-b20f5d1d124a"
      },
      "execution_count": null,
      "outputs": [
        {
          "output_type": "stream",
          "name": "stdout",
          "text": [
            "Введите число5\n",
            "25\n",
            "None\n"
          ]
        }
      ]
    },
    {
      "cell_type": "markdown",
      "source": [
        "## Docstrings"
      ],
      "metadata": {
        "id": "QN6jcKkBtmWW"
      }
    },
    {
      "cell_type": "code",
      "source": [
        "help(print)"
      ],
      "metadata": {
        "id": "QZK-dWFutt8Y",
        "colab": {
          "base_uri": "https://localhost:8080/"
        },
        "outputId": "02bfc1a6-ed4b-4636-e64b-2021bdec88e5"
      },
      "execution_count": null,
      "outputs": [
        {
          "output_type": "stream",
          "name": "stdout",
          "text": [
            "Help on built-in function print in module builtins:\n",
            "\n",
            "print(...)\n",
            "    print(value, ..., sep=' ', end='\\n', file=sys.stdout, flush=False)\n",
            "    \n",
            "    Prints the values to a stream, or to sys.stdout by default.\n",
            "    Optional keyword arguments:\n",
            "    file:  a file-like object (stream); defaults to the current sys.stdout.\n",
            "    sep:   string inserted between values, default a space.\n",
            "    end:   string appended after the last value, default a newline.\n",
            "    flush: whether to forcibly flush the stream.\n",
            "\n"
          ]
        }
      ]
    },
    {
      "cell_type": "code",
      "source": [
        "help(square)"
      ],
      "metadata": {
        "id": "7_6ep0WBtvVS",
        "colab": {
          "base_uri": "https://localhost:8080/"
        },
        "outputId": "f1b4c5ec-5225-4592-d88f-735edc0626fa"
      },
      "execution_count": null,
      "outputs": [
        {
          "output_type": "stream",
          "name": "stdout",
          "text": [
            "Help on function square in module __main__:\n",
            "\n",
            "square()\n",
            "\n"
          ]
        }
      ]
    },
    {
      "cell_type": "code",
      "source": [
        "def square():\n",
        "    \"\"\"\n",
        "    Функция square() принимает число от пользователя и возвращает его квадрат.\n",
        "\n",
        "    Выходные значения:\n",
        "    - result: int - квадрат числа, введенного пользователем\n",
        "\n",
        "    Пример использования:\n",
        "    Введите число: 5\n",
        "    25\n",
        "    \"\"\"\n",
        "    user_input = int(input('Введите число: '))\n",
        "    result = user_input ** 2\n",
        "    return result\n",
        "\n",
        "help(square)"
      ],
      "metadata": {
        "id": "B6fHysK5tw6m",
        "colab": {
          "base_uri": "https://localhost:8080/"
        },
        "outputId": "c3ff69fb-d16a-4ade-b7f0-5a731e3046a9"
      },
      "execution_count": null,
      "outputs": [
        {
          "output_type": "stream",
          "name": "stdout",
          "text": [
            "Help on function square in module __main__:\n",
            "\n",
            "square()\n",
            "    Функция square() принимает число от пользователя и возвращает его квадрат.\n",
            "    \n",
            "    Выходные значения:\n",
            "    - result: int - квадрат числа, введенного пользователем\n",
            "    \n",
            "    Пример использования:\n",
            "    Введите число: 5\n",
            "    25\n",
            "\n"
          ]
        }
      ]
    },
    {
      "cell_type": "markdown",
      "source": [
        "\n",
        "Не ленитесь писать докстринги к сложным функциям. Подробнее про них можно почитать [здесь](https://teletype.in/@pythontalk/docstring_formats)."
      ],
      "metadata": {
        "id": "kqz0I6pAtqpO"
      }
    },
    {
      "cell_type": "markdown",
      "source": [
        "## Параметры и аргументы функции"
      ],
      "metadata": {
        "id": "Cozl4A67sG2I"
      }
    },
    {
      "cell_type": "markdown",
      "source": [
        "Переменные в скобках – это **параметры** функции, которые мы указываем при её определении. Когда мы вызываем функцию, то мы передаем в вызов **аргументы**."
      ],
      "metadata": {
        "id": "dcehLjHpulcr"
      }
    },
    {
      "cell_type": "code",
      "metadata": {
        "id": "TL8qWkEI6mLE",
        "colab": {
          "base_uri": "https://localhost:8080/",
          "height": 193
        },
        "outputId": "405746db-53d2-401f-8122-fc783328babb"
      },
      "source": [
        "def is_palindrome(string):\n",
        "    string = string.replace(' ', '') # убираем пробелы\n",
        "    return string.lower() == string.lower()[::-1] # сравниваем строку с перевернутой\n",
        "\n",
        "some_pal = 'А роза упала на лапу Азора'\n",
        "not_pal = 'Не могу сказать, что это палиндром'\n",
        "\n",
        "print(is_palindrome(some_pal))\n",
        "print(is_palindrome(not_pal))"
      ],
      "execution_count": null,
      "outputs": [
        {
          "output_type": "error",
          "ename": "TypeError",
          "evalue": "is_palindrome() takes 0 positional arguments but 1 was given",
          "traceback": [
            "\u001b[0;31m---------------------------------------------------------------------------\u001b[0m",
            "\u001b[0;31mTypeError\u001b[0m                                 Traceback (most recent call last)",
            "\u001b[0;32m<ipython-input-13-bfadb10e94bb>\u001b[0m in \u001b[0;36m<cell line: 8>\u001b[0;34m()\u001b[0m\n\u001b[1;32m      6\u001b[0m \u001b[0mnot_pal\u001b[0m \u001b[0;34m=\u001b[0m \u001b[0;34m'Не могу сказать, что это палиндром'\u001b[0m\u001b[0;34m\u001b[0m\u001b[0;34m\u001b[0m\u001b[0m\n\u001b[1;32m      7\u001b[0m \u001b[0;34m\u001b[0m\u001b[0m\n\u001b[0;32m----> 8\u001b[0;31m \u001b[0mprint\u001b[0m\u001b[0;34m(\u001b[0m\u001b[0mis_palindrome\u001b[0m\u001b[0;34m(\u001b[0m\u001b[0msome_pal\u001b[0m\u001b[0;34m)\u001b[0m\u001b[0;34m)\u001b[0m\u001b[0;34m\u001b[0m\u001b[0;34m\u001b[0m\u001b[0m\n\u001b[0m\u001b[1;32m      9\u001b[0m \u001b[0mprint\u001b[0m\u001b[0;34m(\u001b[0m\u001b[0mis_palindrome\u001b[0m\u001b[0;34m(\u001b[0m\u001b[0mnot_pal\u001b[0m\u001b[0;34m)\u001b[0m\u001b[0;34m)\u001b[0m\u001b[0;34m\u001b[0m\u001b[0;34m\u001b[0m\u001b[0m\n",
            "\u001b[0;31mTypeError\u001b[0m: is_palindrome() takes 0 positional arguments but 1 was given"
          ]
        }
      ]
    },
    {
      "cell_type": "markdown",
      "source": [
        "У функции есть параметр `string`, а при вызове функции мы передаем конкретные строки - аргументы. [Не путайте](https://teletype.in/@pythontalk/params_args) понятия \"параметр\" и \"аргумент\"!"
      ],
      "metadata": {
        "id": "new6NgWfxuet"
      }
    },
    {
      "cell_type": "markdown",
      "source": [
        "### Необязательные аргументы\n",
        "\n",
        "Для функции в Python мы можем определить необязательные аргументы, которые можно не указывать при её вызове.\n",
        "\n",
        "Например, print печатает свои аргументы через пробел, но изредка было бы полезно печатать их через запятую."
      ],
      "metadata": {
        "id": "wWP-lJocvOPy"
      }
    },
    {
      "cell_type": "code",
      "source": [
        "print(1, 2, 3, 4)\n",
        "print(1, 2, 3, 4, sep=', ')"
      ],
      "metadata": {
        "id": "Q6u6LxMYvOPy",
        "colab": {
          "base_uri": "https://localhost:8080/",
          "height": 106
        },
        "outputId": "c41c6eac-075b-4802-faf1-b1b477afd881"
      },
      "execution_count": null,
      "outputs": [
        {
          "output_type": "error",
          "ename": "SyntaxError",
          "evalue": "positional argument follows keyword argument (<ipython-input-20-b265db2b7413>, line 2)",
          "traceback": [
            "\u001b[0;36m  File \u001b[0;32m\"<ipython-input-20-b265db2b7413>\"\u001b[0;36m, line \u001b[0;32m2\u001b[0m\n\u001b[0;31m    print(sep=', ', 1, 2, 3, 4)\u001b[0m\n\u001b[0m                              ^\u001b[0m\n\u001b[0;31mSyntaxError\u001b[0m\u001b[0;31m:\u001b[0m positional argument follows keyword argument\n"
          ]
        }
      ]
    },
    {
      "cell_type": "markdown",
      "source": [
        "* Если значения по умолчанию нет, аргумент считается обязательным.  \n",
        "* При вызове функции мы по порядку передаём все обязательные аргументы, а потом необязательные.  \n",
        "* Мы можем не соблюдать порядок аргументов, если в явном виде указывать их имена.  "
      ],
      "metadata": {
        "id": "hjdVejNLvOPz"
      }
    },
    {
      "cell_type": "code",
      "source": [
        "def power(number, number_2=2):\n",
        "    result = number ** number_2\n",
        "    return result\n",
        "\n",
        "print(power(10, 5))\n",
        "print(power(10))\n"
      ],
      "metadata": {
        "id": "a88EpuDqvOPz",
        "colab": {
          "base_uri": "https://localhost:8080/"
        },
        "outputId": "c824f8cf-730f-45af-e37e-e35b5ad10469"
      },
      "execution_count": null,
      "outputs": [
        {
          "output_type": "stream",
          "name": "stdout",
          "text": [
            "100000\n",
            "100\n"
          ]
        }
      ]
    },
    {
      "cell_type": "code",
      "source": [
        "print(power(number_2=7, number=10))"
      ],
      "metadata": {
        "id": "RKZAS_DF6awt",
        "colab": {
          "base_uri": "https://localhost:8080/"
        },
        "outputId": "1a62d360-2a59-4439-d026-a36eff1c3add"
      },
      "execution_count": null,
      "outputs": [
        {
          "output_type": "stream",
          "name": "stdout",
          "text": [
            "10000000\n"
          ]
        }
      ]
    },
    {
      "cell_type": "markdown",
      "source": [
        "## Области видимости\n",
        "\n",
        "Область видимости (scope) определяет контекст объекта, в рамках которого его можно использовать.\n",
        "\n",
        "Рассмотрим 2 типа области видимости:\n",
        "\n",
        "* Локальная область видимости\n",
        "* Глобальная область видимости\n",
        "\n",
        "Глобальная область видимости подразумевает, что переменная является глобальной, она определена вне любой из функций и доступна любой функции в программе.\n",
        "\n",
        "В отличие от глобальных переменных локальная переменная определяется внутри функции и доступна только из этой функции, то есть имеет локальную область видимости."
      ],
      "metadata": {
        "id": "sb5_luxgwwD2"
      }
    },
    {
      "cell_type": "code",
      "source": [
        "salary = 1000\n",
        "bonus = 600\n",
        "\n",
        "def info():\n",
        "    print(salary + bonus)\n",
        "\n",
        "info()"
      ],
      "metadata": {
        "id": "zGFywSdCw8oU",
        "colab": {
          "base_uri": "https://localhost:8080/"
        },
        "outputId": "a7ad42f0-00c6-4613-fb66-a22f12356eec"
      },
      "execution_count": null,
      "outputs": [
        {
          "output_type": "stream",
          "name": "stdout",
          "text": [
            "1600\n"
          ]
        }
      ]
    },
    {
      "cell_type": "code",
      "source": [
        "salary = 1000\n",
        "bonus = 600\n",
        "\n",
        "def info_2():\n",
        "    bonus = 50\n",
        "    print(salary + bonus)\n",
        "\n",
        "info_2()"
      ],
      "metadata": {
        "id": "TbQf8rWsw-kA",
        "colab": {
          "base_uri": "https://localhost:8080/"
        },
        "outputId": "4d4c6db2-26d3-4388-f03e-3d859d259c45"
      },
      "execution_count": null,
      "outputs": [
        {
          "output_type": "stream",
          "name": "stdout",
          "text": [
            "1050\n"
          ]
        }
      ]
    },
    {
      "cell_type": "code",
      "source": [
        "salary = 1000\n",
        "bonus = 600\n",
        "\n",
        "def local_info():\n",
        "    salary = 500\n",
        "    bonus = 200\n",
        "    some_number = 1\n",
        "    print(salary + bonus)\n",
        "\n",
        "local_info()\n",
        "print(some_number)\n"
      ],
      "metadata": {
        "id": "NyHkHDrcxA-T",
        "colab": {
          "base_uri": "https://localhost:8080/",
          "height": 176
        },
        "outputId": "88ab12e0-d626-41f7-8d6f-821a423ebcc8"
      },
      "execution_count": null,
      "outputs": [
        {
          "output_type": "error",
          "ename": "NameError",
          "evalue": "name 'some_number' is not defined",
          "traceback": [
            "\u001b[0;31m---------------------------------------------------------------------------\u001b[0m",
            "\u001b[0;31mNameError\u001b[0m                                 Traceback (most recent call last)",
            "\u001b[0;32m<ipython-input-26-d23a6c534752>\u001b[0m in \u001b[0;36m<cell line: 12>\u001b[0;34m()\u001b[0m\n\u001b[1;32m     10\u001b[0m \u001b[0;34m\u001b[0m\u001b[0m\n\u001b[1;32m     11\u001b[0m \u001b[0mlocal_info\u001b[0m\u001b[0;34m(\u001b[0m\u001b[0;34m)\u001b[0m\u001b[0;34m\u001b[0m\u001b[0;34m\u001b[0m\u001b[0m\n\u001b[0;32m---> 12\u001b[0;31m \u001b[0mprint\u001b[0m\u001b[0;34m(\u001b[0m\u001b[0msome_number\u001b[0m\u001b[0;34m)\u001b[0m\u001b[0;34m\u001b[0m\u001b[0;34m\u001b[0m\u001b[0m\n\u001b[0m",
            "\u001b[0;31mNameError\u001b[0m: name 'some_number' is not defined"
          ]
        }
      ]
    },
    {
      "cell_type": "code",
      "source": [
        "salary = 1000\n",
        "bonus = 600\n",
        "\n",
        "def local_info():\n",
        "    salary = 500\n",
        "    global bonus\n",
        "    bonus = 200\n",
        "    global some_number\n",
        "    some_number = 1\n",
        "    print(salary + bonus)\n",
        "\n",
        "print(bonus)\n",
        "local_info()\n",
        "print(bonus)\n",
        "print(some_number)"
      ],
      "metadata": {
        "id": "aKeepjjGxJca",
        "colab": {
          "base_uri": "https://localhost:8080/"
        },
        "outputId": "450b463e-0e06-431d-8e38-8d5509e90acf"
      },
      "execution_count": null,
      "outputs": [
        {
          "output_type": "stream",
          "name": "stdout",
          "text": [
            "600\n",
            "700\n",
            "200\n",
            "1\n"
          ]
        }
      ]
    },
    {
      "cell_type": "markdown",
      "metadata": {
        "id": "mgMjftejd7Ph"
      },
      "source": [
        "## Функции высшего порядка и lambda-функции\n",
        "\n",
        "\n"
      ]
    },
    {
      "cell_type": "markdown",
      "source": [
        "### Функция map\n",
        "\n",
        "В Python функции являются объектами, поэтому вы можете обращаться с ними, как и с любой другой переменной, например, передавать их в качестве аргумента в другую функцию. Функции, которые принимают в качестве аргумента другие функции, называются **функциями высшего порядка**.\n",
        "\n",
        "Функция map - одна из таких функций. Map применяет функцию-аргумент к каждому элементу итерируемого объекта, который мы передаём вторым аргументом.\n"
      ],
      "metadata": {
        "id": "QcydLLDxbUOb"
      }
    },
    {
      "cell_type": "markdown",
      "metadata": {
        "id": "1whxQleKMlLv"
      },
      "source": [
        "Получим список из средних цен в каждой категории товаров стандартным способом:"
      ]
    },
    {
      "cell_type": "code",
      "metadata": {
        "id": "xZTL8aTPMNEE"
      },
      "source": [
        "prices_by_categories = [[100, 200, 400, 600], [200, 500], [100, 200, 100, 100], [800, 900]]"
      ],
      "execution_count": null,
      "outputs": []
    },
    {
      "cell_type": "code",
      "metadata": {
        "id": "m1DA5YEIMxw3",
        "colab": {
          "base_uri": "https://localhost:8080/"
        },
        "outputId": "677639af-55da-4acc-f951-b31c413b5d2a"
      },
      "source": [
        "def get_avg_prices(prices):\n",
        "    mean_prices = []\n",
        "    for category in prices:\n",
        "        mean_prices.append(sum(category) / len(category))\n",
        "    return mean_prices\n",
        "\n",
        "print(get_avg_prices(prices_by_categories))"
      ],
      "execution_count": null,
      "outputs": [
        {
          "output_type": "stream",
          "name": "stdout",
          "text": [
            "[325.0, 350.0, 125.0, 850.0]\n"
          ]
        }
      ]
    },
    {
      "cell_type": "markdown",
      "source": [
        "А что если написать функцию для расчета среднего и использовать ее в map?"
      ],
      "metadata": {
        "id": "KtGIeA7sqfHm"
      }
    },
    {
      "cell_type": "code",
      "source": [
        "def get_avg(collection):\n",
        "    return sum(collection) / len(collection)\n",
        "\n",
        "print(list(map(get_avg, prices_by_categories)))"
      ],
      "metadata": {
        "id": "Hr-la4Iaqm4X",
        "colab": {
          "base_uri": "https://localhost:8080/"
        },
        "outputId": "aed81624-8ff6-4524-957f-850bbf290e1e"
      },
      "execution_count": null,
      "outputs": [
        {
          "output_type": "stream",
          "name": "stdout",
          "text": [
            "[325.0, 350.0, 125.0, 850.0]\n"
          ]
        }
      ]
    },
    {
      "cell_type": "markdown",
      "source": [
        "Мы использовали list потому, что map возвращает [итератор](https://teletype.in/@pythontalk/iterator_generator), напрямую его содержимое (без цикла) увидеть нельзя."
      ],
      "metadata": {
        "id": "Jxuj8-zsbajB"
      }
    },
    {
      "cell_type": "markdown",
      "source": [
        "Мы также можем использовать map со встроенными функциями.\n",
        "\n"
      ],
      "metadata": {
        "id": "DvkiiJBVbebz"
      }
    },
    {
      "cell_type": "code",
      "source": [
        "print(list(map(sum, prices_by_categories)))"
      ],
      "metadata": {
        "id": "ZUXaLDqAsLun",
        "colab": {
          "base_uri": "https://localhost:8080/"
        },
        "outputId": "fe4627fb-94ff-422a-de01-8a6e3e2b95f4"
      },
      "execution_count": null,
      "outputs": [
        {
          "output_type": "stream",
          "name": "stdout",
          "text": [
            "[1300, 700, 500, 1700]\n"
          ]
        }
      ]
    },
    {
      "cell_type": "markdown",
      "source": [
        "### Lambda-функции\n",
        "[Lambda-функции](https://teletype.in/@pythontalk/lambda_functions) (анонимные функции) могут содержать лишь однострочное выражение, и им необязательно давать имя. Выполняются быстрее обычных и не требуют инструкции return."
      ],
      "metadata": {
        "id": "3E7cGlHybmyn"
      }
    },
    {
      "cell_type": "code",
      "source": [
        "lambda prices: sum(prices) / len(prices)\n",
        "\n",
        "# print((lambda prices: sum(prices) / len(prices))([1, 2, 3, 4]))"
      ],
      "metadata": {
        "id": "Wk6ny_flrzkt",
        "colab": {
          "base_uri": "https://localhost:8080/"
        },
        "outputId": "3e3d19fd-9732-446e-fd90-2c4b9142175f"
      },
      "execution_count": null,
      "outputs": [
        {
          "output_type": "stream",
          "name": "stdout",
          "text": [
            "2.5\n"
          ]
        }
      ]
    },
    {
      "cell_type": "code",
      "source": [
        "l_func = lambda prices: sum(prices) / len(prices)\n",
        "\n",
        "print(l_func([1, 2, 3, 4]))"
      ],
      "metadata": {
        "id": "5Awh4cKjXjgs",
        "colab": {
          "base_uri": "https://localhost:8080/"
        },
        "outputId": "09e26ff2-d86f-47b4-a132-b4f483e5b501"
      },
      "execution_count": null,
      "outputs": [
        {
          "output_type": "stream",
          "name": "stdout",
          "text": [
            "2.5\n"
          ]
        }
      ]
    },
    {
      "cell_type": "markdown",
      "source": [
        "Связка lambda c map (и другими функциями высшего порядка) помогает реализовывать однострочные лаконичные решения без циклов"
      ],
      "metadata": {
        "id": "L9xPbptBXN2B"
      }
    },
    {
      "cell_type": "code",
      "metadata": {
        "id": "zWKy77kXQaTT",
        "colab": {
          "base_uri": "https://localhost:8080/"
        },
        "outputId": "7b7e18b7-1177-44e3-adf4-fce57494592d"
      },
      "source": [
        "prices_by_categories = [[100, 200, 400, 600], [200, 500], [100, 200, 100, 100], [800, 900]]\n",
        "\n",
        "print(list(map(lambda prices: sum(prices) / len(prices), prices_by_categories)))"
      ],
      "execution_count": null,
      "outputs": [
        {
          "output_type": "stream",
          "name": "stdout",
          "text": [
            "[325.0, 350.0, 125.0, 850.0]\n"
          ]
        }
      ]
    },
    {
      "cell_type": "markdown",
      "source": [
        "[Тут](https://teletype.in/@pythontalk/lambdas_examples) можете ознакомиться с доп. примерами применения lambda-функций"
      ],
      "metadata": {
        "id": "3ZhBjAqvuNTH"
      }
    },
    {
      "cell_type": "markdown",
      "source": [
        "### Функция filter\n",
        "\n",
        "filter также принимает на вход произвольную функцию и составной объект. Filter применяет переданную функцию последовательно к каждому элементу и ожидает, что функция вернёт логическое значение True/False. На выход она возвращает только те элементы, для которых значение было True."
      ],
      "metadata": {
        "id": "jFQ1NQwCcLc4"
      }
    },
    {
      "cell_type": "code",
      "metadata": {
        "id": "EBLHeZpvQnFZ"
      },
      "source": [
        "geo_logs = [\n",
        "    {'visit1': ['Москва', 'Россия']},\n",
        "    {'visit2': ['Дели', 'Индия']},\n",
        "    {'visit3': ['Владимир', 'Россия']},\n",
        "    {'visit4': ['Лиссабон', 'Португалия']},\n",
        "    {'visit5': ['Париж', 'Франция']},\n",
        "    {'visit7': ['Тула', 'Россия']},\n",
        "    {'visit9': ['Курск', 'Россия']},\n",
        "    {'visit10': ['Архангельск', 'Россия']}\n",
        "]"
      ],
      "execution_count": null,
      "outputs": []
    },
    {
      "cell_type": "code",
      "source": [
        "def filter_logs(logs, country):\n",
        "    result = []\n",
        "    for log in logs:\n",
        "        # print(tuple(log.values())[0])\n",
        "        if country in tuple(log.values())[0]:\n",
        "            result.append(log)\n",
        "    return result\n",
        "\n",
        "print(filter_logs(geo_logs, 'Россия'))\n",
        "\n"
      ],
      "metadata": {
        "id": "ofGCP68KeYSW",
        "colab": {
          "base_uri": "https://localhost:8080/"
        },
        "outputId": "af45ca4f-e37b-4f65-f862-3bfcaeeeeee0"
      },
      "execution_count": null,
      "outputs": [
        {
          "output_type": "stream",
          "name": "stdout",
          "text": [
            "[{'visit1': ['Москва', 'Россия']}, {'visit3': ['Владимир', 'Россия']}, {'visit7': ['Тула', 'Россия']}, {'visit9': ['Курск', 'Россия']}, {'visit10': ['Архангельск', 'Россия']}]\n"
          ]
        }
      ]
    },
    {
      "cell_type": "code",
      "metadata": {
        "id": "69ru-aTZQu8j",
        "colab": {
          "base_uri": "https://localhost:8080/"
        },
        "outputId": "88dd1c3c-3f8e-40ad-a1e7-48d6b06b6a4a"
      },
      "source": [
        "country = 'Россия'\n",
        "\n",
        "print(list(filter(lambda log: country in tuple(log.values())[0], geo_logs)))"
      ],
      "execution_count": null,
      "outputs": [
        {
          "output_type": "stream",
          "name": "stdout",
          "text": [
            "[{'visit1': ['Москва', 'Россия']}, {'visit3': ['Владимир', 'Россия']}, {'visit7': ['Тула', 'Россия']}, {'visit9': ['Курск', 'Россия']}, {'visit10': ['Архангельск', 'Россия']}]\n"
          ]
        }
      ]
    },
    {
      "cell_type": "markdown",
      "metadata": {
        "id": "_mY3dvurRsd4"
      },
      "source": [
        "## Попрактикуемся"
      ]
    },
    {
      "cell_type": "code",
      "metadata": {
        "id": "OPd5-8lVRuL5"
      },
      "source": [
        "students_list = [\n",
        "    {\"name\": \"Василий\", \"surname\": \"Теркин\", \"gender\": \"м\", \"program_exp\": True, \"grade\": [8, 8, 9, 10, 8], \"exam\": 8},\n",
        "    {\"name\": \"Мария\", \"surname\": \"Павлова\", \"gender\": \"ж\", \"program_exp\": True, \"grade\": [7, 8, 9, 7, 9], \"exam\": 9},\n",
        "    {\"name\": \"Ирина\", \"surname\": \"Андреева\", \"gender\": \"ж\", \"program_exp\": False, \"grade\": [10, 9, 8, 10, 8], \"exam\": 7},\n",
        "    {\"name\": \"Татьяна\", \"surname\": \"Сидорова\", \"gender\": \"ж\", \"program_exp\": False, \"grade\": [7, 8, 8, 9, 8], \"exam\": 10},\n",
        "    {\"name\": \"Иван\", \"surname\": \"Васильев\", \"gender\": \"м\", \"program_exp\": True, \"grade\": [9, 8, 9, 6, 4], \"exam\": 5},\n",
        "    {\"name\": \"Роман\", \"surname\": \"Золотарев\", \"gender\": \"м\", \"program_exp\": False, \"grade\": [8, 9, 9, 6, 9], \"exam\": 6}\n",
        "]"
      ],
      "execution_count": null,
      "outputs": []
    },
    {
      "cell_type": "code",
      "source": [
        "def get_avg_grade(students):\n",
        "    sum_ = 0\n",
        "\n",
        "    for student in students:\n",
        "        sum_ += sum(student['grade']) / len(student['grade'])\n",
        "\n",
        "    return round(sum_ / len(students), 2)\n",
        "\n",
        "# def get_avg_grade(students):\n",
        "#     return round(sum(map(lambda student: sum(student['grade']) / len(student['grade']), students)) / len(students), 2)\n",
        "\n",
        "print(get_avg_grade(students_list))"
      ],
      "metadata": {
        "id": "Y9c5m1fXCmy3",
        "colab": {
          "base_uri": "https://localhost:8080/"
        },
        "outputId": "0ec800ff-700a-465e-d8cc-b524648b4fb7"
      },
      "execution_count": null,
      "outputs": [
        {
          "output_type": "stream",
          "name": "stdout",
          "text": [
            "8.17\n"
          ]
        }
      ]
    },
    {
      "cell_type": "code",
      "source": [
        "def filter_students(students, sex):\n",
        "    res = []\n",
        "\n",
        "    for student in students:\n",
        "        if student['gender'] == sex:\n",
        "            res.append(student)\n",
        "\n",
        "    return res\n",
        "\n",
        "# def filter_students(students, sex):\n",
        "#     return list(filter(lambda student: student['gender'] == sex, students))\n",
        "\n",
        "male_students = filter_students(students_list, 'м')\n",
        "female_students = filter_students(students_list, 'ж')\n",
        "\n",
        "print(male_students)\n",
        "print(female_students)"
      ],
      "metadata": {
        "colab": {
          "base_uri": "https://localhost:8080/"
        },
        "id": "SZTF4xDjXlJr",
        "outputId": "1bca8ad4-dc3c-4476-8387-b35c92199f6b"
      },
      "execution_count": null,
      "outputs": [
        {
          "output_type": "stream",
          "name": "stdout",
          "text": [
            "[{'name': 'Василий', 'surname': 'Теркин', 'gender': 'м', 'program_exp': True, 'grade': [8, 8, 9, 10, 8], 'exam': 8}, {'name': 'Иван', 'surname': 'Васильев', 'gender': 'м', 'program_exp': True, 'grade': [9, 8, 9, 6, 4], 'exam': 5}, {'name': 'Роман', 'surname': 'Золотарев', 'gender': 'м', 'program_exp': False, 'grade': [8, 9, 9, 6, 9], 'exam': 6}]\n",
            "[{'name': 'Мария', 'surname': 'Павлова', 'gender': 'ж', 'program_exp': True, 'grade': [7, 8, 9, 7, 9], 'exam': 9}, {'name': 'Ирина', 'surname': 'Андреева', 'gender': 'ж', 'program_exp': False, 'grade': [10, 9, 8, 10, 8], 'exam': 7}, {'name': 'Татьяна', 'surname': 'Сидорова', 'gender': 'ж', 'program_exp': False, 'grade': [7, 8, 8, 9, 8], 'exam': 10}]\n"
          ]
        }
      ]
    },
    {
      "cell_type": "code",
      "source": [
        "\n",
        "print(get_avg_grade(male_students))\n",
        "\n",
        "\n",
        "print(get_avg_grade(filter_students(students_list, 'м')))\n",
        "\n",
        "print(get_avg_grade(filter_students(students_list, 'ж')))"
      ],
      "metadata": {
        "colab": {
          "base_uri": "https://localhost:8080/"
        },
        "id": "ixGWL98mYlHL",
        "outputId": "02d5dc7a-e7b9-4c23-d942-05149b4411d0"
      },
      "execution_count": null,
      "outputs": [
        {
          "output_type": "stream",
          "name": "stdout",
          "text": [
            "8.0\n",
            "8.0\n",
            "8.33\n"
          ]
        }
      ]
    },
    {
      "cell_type": "markdown",
      "source": [
        "# Что ещё почитать?\n",
        "\n",
        "* Укус Питона, [глава про функции](https://python.swaroopch.com/functions.html)\n",
        "\n",
        "* Про [передачу аргументов по ссылке](https://teletype.in/@pythontalk/involuntary_borgs)\n",
        "\n",
        "* [Как получить ключ с максимальным значением в словаре?](https://teletype.in/@pythontalk/key_with_max_value)\n",
        "\n",
        "* [Полезные сниппеты для решения некоторых задач](https://teletype.in/@pythontalk/py_snippets)"
      ],
      "metadata": {
        "id": "mwXhdgetiYiS"
      }
    },
    {
      "cell_type": "code",
      "source": [],
      "metadata": {
        "id": "0AMqA8fUIDfw"
      },
      "execution_count": null,
      "outputs": []
    }
  ]
}